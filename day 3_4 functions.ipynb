{
 "cells": [
  {
   "cell_type": "code",
   "execution_count": 4,
   "id": "55485e13-7a45-44aa-bd43-bae1a50d7558",
   "metadata": {},
   "outputs": [],
   "source": [
    "def do_nothing():\n",
    "    pass\n",
    "\n",
    "do_nothing()"
   ]
  },
  {
   "cell_type": "code",
   "execution_count": 3,
   "id": "b304adad-d46e-4008-b8e9-366a94a940b4",
   "metadata": {},
   "outputs": [
    {
     "name": "stdout",
     "output_type": "stream",
     "text": [
      "moo..\n"
     ]
    }
   ],
   "source": [
    "def make_sound():\n",
    "    print (\"moo..\")\n",
    "\n",
    "make_sound()"
   ]
  },
  {
   "cell_type": "code",
   "execution_count": 5,
   "id": "b9e8a614-0ebb-4735-b53a-30690fe30da3",
   "metadata": {},
   "outputs": [
    {
     "data": {
      "text/plain": [
       "True"
      ]
     },
     "execution_count": 5,
     "metadata": {},
     "output_type": "execute_result"
    }
   ],
   "source": [
    "def agree():\n",
    "    return True\n",
    "\n",
    "agree()"
   ]
  },
  {
   "cell_type": "code",
   "execution_count": 7,
   "id": "fa5e04e6-e5fe-4ebf-880d-2a33e0210a9b",
   "metadata": {},
   "outputs": [
    {
     "name": "stdout",
     "output_type": "stream",
     "text": [
      "moo..\n"
     ]
    }
   ],
   "source": [
    "sound = make_sound()\n",
    "is_agree = agree ()\n"
   ]
  },
  {
   "cell_type": "code",
   "execution_count": 8,
   "id": "e9eafe91-df8d-448c-9307-9066bfb870fd",
   "metadata": {},
   "outputs": [
    {
     "name": "stdout",
     "output_type": "stream",
     "text": [
      "None\n",
      "True\n"
     ]
    }
   ],
   "source": [
    "print(sound)\n",
    "print (is_agree)"
   ]
  },
  {
   "cell_type": "code",
   "execution_count": 9,
   "id": "009c3a2b-775c-4010-a4bf-2e774851f7aa",
   "metadata": {},
   "outputs": [
    {
     "name": "stdout",
     "output_type": "stream",
     "text": [
      "Awesome!\n"
     ]
    }
   ],
   "source": [
    "if agree():\n",
    "    print(\"Awesome!\")\n",
    "else:\n",
    "    print(\"Very unexpected..\") "
   ]
  },
  {
   "cell_type": "code",
   "execution_count": 10,
   "id": "36bd9c34-5512-4997-a4e4-9b2b36966e22",
   "metadata": {},
   "outputs": [],
   "source": [
    "def cylinder_volume(radius, height):\n",
    "    pi = 3.14159\n",
    "    return pi * height * radius **2"
   ]
  },
  {
   "cell_type": "code",
   "execution_count": 13,
   "id": "bbc51d7e-fd98-4f45-b83f-8921ecb00cd6",
   "metadata": {},
   "outputs": [
    {
     "name": "stdout",
     "output_type": "stream",
     "text": [
      "cylinder volume: 141.37155\n"
     ]
    }
   ],
   "source": [
    "volume = cylinder_volume(3, 5)\n",
    "print(\"cylinder volume:\", volume)"
   ]
  },
  {
   "cell_type": "code",
   "execution_count": 17,
   "id": "39f29c87-7385-4f0a-8901-54b615e0f8ef",
   "metadata": {},
   "outputs": [
    {
     "name": "stdout",
     "output_type": "stream",
     "text": [
      "Returning something\n"
     ]
    },
    {
     "data": {
      "text/plain": [
       "'something'"
      ]
     },
     "execution_count": 17,
     "metadata": {},
     "output_type": "execute_result"
    }
   ],
   "source": [
    "def direct_return():\n",
    "    print(\"Returning something\")\n",
    "    return \"something\"\n",
    "    print(\"Done returning something\")\n",
    "direct_return()"
   ]
  },
  {
   "cell_type": "code",
   "execution_count": 27,
   "id": "b0e88280-d3fb-458e-bc66-1d37e3195a19",
   "metadata": {},
   "outputs": [],
   "source": [
    "def commentary(color):\n",
    "    if color == \"red\":\n",
    "        return \"It's a tomato\"\n",
    "    if color == \"green\":\n",
    "        return \"It's a green paper\"\n",
    "    if color == \"bees\":\n",
    "        return \"I don't know what it is, but looks like bee\"\n",
    "    return \"I've never heard of the color \" + color + \" before\""
   ]
  },
  {
   "cell_type": "code",
   "execution_count": 28,
   "id": "62fd25b0-78a1-4508-af82-d06d17cb5412",
   "metadata": {},
   "outputs": [
    {
     "data": {
      "text/plain": [
       "\"I've never heard of the color black before\""
      ]
     },
     "execution_count": 28,
     "metadata": {},
     "output_type": "execute_result"
    }
   ],
   "source": [
    "commentary(\"black\")"
   ]
  },
  {
   "cell_type": "code",
   "execution_count": 29,
   "id": "47ced610-9c9c-461e-9192-32940045b7a6",
   "metadata": {},
   "outputs": [
    {
     "data": {
      "text/plain": [
       "\"It's a tomato\""
      ]
     },
     "execution_count": 29,
     "metadata": {},
     "output_type": "execute_result"
    }
   ],
   "source": [
    "commentary (\"red\")"
   ]
  },
  {
   "cell_type": "code",
   "execution_count": 30,
   "id": "de88e71d-f5b1-4477-8ee1-1662cdc07ee4",
   "metadata": {},
   "outputs": [],
   "source": [
    "def say_hi (name):\n",
    "    return \"Hi, \" + name + \"!\""
   ]
  },
  {
   "cell_type": "code",
   "execution_count": 33,
   "id": "add56f33-0e94-4fc7-87f7-20c87e0b7b9a",
   "metadata": {},
   "outputs": [
    {
     "data": {
      "text/plain": [
       "'Hi, elin!'"
      ]
     },
     "execution_count": 33,
     "metadata": {},
     "output_type": "execute_result"
    }
   ],
   "source": [
    "say_hi(\"elin\")"
   ]
  },
  {
   "cell_type": "code",
   "execution_count": 36,
   "id": "222836de-8294-4b1c-aef7-75b7f1cd6909",
   "metadata": {},
   "outputs": [
    {
     "name": "stdout",
     "output_type": "stream",
     "text": [
      "402.12352\n"
     ]
    }
   ],
   "source": [
    "r = 4\n",
    "h = 8\n",
    "\n",
    "v = cylinder_volume(r, h)\n",
    "print(v)"
   ]
  },
  {
   "cell_type": "code",
   "execution_count": 37,
   "id": "da3644a2-2a7f-4bfa-a343-275fe790bbca",
   "metadata": {},
   "outputs": [],
   "source": [
    "def echo(anything):\n",
    "    return anything + \" \" + anything"
   ]
  },
  {
   "cell_type": "code",
   "execution_count": 38,
   "id": "388bcb41-1816-4b02-bdf4-8bdaade391bb",
   "metadata": {},
   "outputs": [
    {
     "data": {
      "text/plain": [
       "'phyton phyton'"
      ]
     },
     "execution_count": 38,
     "metadata": {},
     "output_type": "execute_result"
    }
   ],
   "source": [
    "echo(\"phyton\")"
   ]
  },
  {
   "cell_type": "code",
   "execution_count": 39,
   "id": "0015149b-e6b2-4fc9-8190-ac3ab77724ae",
   "metadata": {},
   "outputs": [],
   "source": [
    "def is_bounded(x, lower, upper):\n",
    "    return lower <= x <= upper"
   ]
  },
  {
   "cell_type": "code",
   "execution_count": 45,
   "id": "ea7659be-01bd-44d2-a1b8-ed34311e5e91",
   "metadata": {},
   "outputs": [
    {
     "data": {
      "text/plain": [
       "False"
      ]
     },
     "execution_count": 45,
     "metadata": {},
     "output_type": "execute_result"
    }
   ],
   "source": [
    "is_bounded(2, 3, 4)"
   ]
  },
  {
   "cell_type": "code",
   "execution_count": 46,
   "id": "0f4ad7fa-7ac4-49ae-8938-52cc003693c7",
   "metadata": {},
   "outputs": [
    {
     "data": {
      "text/plain": [
       "True"
      ]
     },
     "execution_count": 46,
     "metadata": {},
     "output_type": "execute_result"
    }
   ],
   "source": [
    "is_bounded(4, 1, 7)"
   ]
  },
  {
   "cell_type": "code",
   "execution_count": 47,
   "id": "f9e9a726-d431-4a0f-8db3-f8f60e61b505",
   "metadata": {},
   "outputs": [
    {
     "data": {
      "text/plain": [
       "True"
      ]
     },
     "execution_count": 47,
     "metadata": {},
     "output_type": "execute_result"
    }
   ],
   "source": [
    "is_bounded(upper=5, lower= 1, x=4)"
   ]
  },
  {
   "cell_type": "code",
   "execution_count": 48,
   "id": "68d59a30-0dc9-4429-a26e-9c5ac760c5af",
   "metadata": {},
   "outputs": [
    {
     "name": "stdout",
     "output_type": "stream",
     "text": [
      "True\n",
      "True\n",
      "True\n"
     ]
    }
   ],
   "source": [
    "print(is_bounded(3, 2, 4))\n",
    "print(is_bounded(upper=4, lower=2, x=3))\n",
    "print(is_bounded(x=3, upper=4, lower=2))"
   ]
  },
  {
   "cell_type": "code",
   "execution_count": 6,
   "id": "2cbf733c-1e30-4d75-9c59-0998f9b0fc41",
   "metadata": {},
   "outputs": [
    {
     "name": "stdout",
     "output_type": "stream",
     "text": [
      "1 week(s) and 3 day(s)\n"
     ]
    }
   ],
   "source": [
    "def readable_timedelta(days) :\n",
    "    number_of_weeks = days // 7\n",
    "    remainder_days = days % 7\n",
    "    \n",
    "    # within 1 week\n",
    "    if days < 7:\n",
    "        return \"{} day(s)\".format(remainder_days)\n",
    "    \n",
    "    # if days % 7 == 0\n",
    "    if remainder_days == 0:\n",
    "        return \"{} week(s)\".format(number_of_weeks)\n",
    "    \n",
    "    return \"{} week(s) and {} day(s)\".format(number_of_weeks, remainder_days)\n",
    "\n",
    "print(readable_timedelta(10))"
   ]
  },
  {
   "cell_type": "code",
   "execution_count": 1,
   "id": "6f1d93d3-3ffc-4328-856d-8b059ced1073",
   "metadata": {},
   "outputs": [],
   "source": [
    "def is_bounded(x, lower=0, upper=10):\n",
    "    print (\"{} <= {} <= {}\".format(lower, x, upper))\n",
    "    return lower <= x <= upper"
   ]
  },
  {
   "cell_type": "code",
   "execution_count": 2,
   "id": "9df1b260-eec0-4f0e-85ac-68d1cbe3c69f",
   "metadata": {},
   "outputs": [
    {
     "name": "stdout",
     "output_type": "stream",
     "text": [
      "0 <= 3 <= 10\n"
     ]
    },
    {
     "data": {
      "text/plain": [
       "True"
      ]
     },
     "execution_count": 2,
     "metadata": {},
     "output_type": "execute_result"
    }
   ],
   "source": [
    "is_bounded(3)"
   ]
  },
  {
   "cell_type": "code",
   "execution_count": 4,
   "id": "a21f7624-fd1c-4edd-9ee0-acd00fcfbc37",
   "metadata": {},
   "outputs": [
    {
     "name": "stdout",
     "output_type": "stream",
     "text": [
      "0 <= 2 <= 1\n"
     ]
    },
    {
     "data": {
      "text/plain": [
       "False"
      ]
     },
     "execution_count": 4,
     "metadata": {},
     "output_type": "execute_result"
    }
   ],
   "source": [
    "is_bounded(2, upper=1)"
   ]
  },
  {
   "cell_type": "code",
   "execution_count": 6,
   "id": "20b5f1dd-4d50-4fa1-8aab-f6dda1a27df1",
   "metadata": {},
   "outputs": [
    {
     "name": "stdout",
     "output_type": "stream",
     "text": [
      "5 <= 1 <= 10\n"
     ]
    },
    {
     "data": {
      "text/plain": [
       "False"
      ]
     },
     "execution_count": 6,
     "metadata": {},
     "output_type": "execute_result"
    }
   ],
   "source": [
    "is_bounded(1, lower=5)"
   ]
  },
  {
   "cell_type": "code",
   "execution_count": 7,
   "id": "a69cd0e5-6b7f-42f7-9087-0e062010c0d3",
   "metadata": {},
   "outputs": [
    {
     "name": "stdout",
     "output_type": "stream",
     "text": [
      "0 <= 5 <= 1\n",
      "False\n",
      "0 <= 5 <= 1\n",
      "False\n"
     ]
    }
   ],
   "source": [
    "print(is_bounded (5, 0, 1))\n",
    "print(is_bounded(x=5, lower=0, upper=1))"
   ]
  },
  {
   "cell_type": "code",
   "execution_count": 8,
   "id": "de5233c2-e641-48f9-9917-35c29aec4672",
   "metadata": {},
   "outputs": [],
   "source": [
    "def func(*args):\n",
    "    return args, type(args)"
   ]
  },
  {
   "cell_type": "code",
   "execution_count": 9,
   "id": "b49dc9b7-01aa-4b6f-8708-c05ebe2b53ed",
   "metadata": {},
   "outputs": [
    {
     "data": {
      "text/plain": [
       "((), tuple)"
      ]
     },
     "execution_count": 9,
     "metadata": {},
     "output_type": "execute_result"
    }
   ],
   "source": [
    "func()"
   ]
  },
  {
   "cell_type": "code",
   "execution_count": 11,
   "id": "7623e70d-93e6-4394-8807-d608c4681296",
   "metadata": {},
   "outputs": [
    {
     "data": {
      "text/plain": [
       "((3, 4, 'metadata'), tuple)"
      ]
     },
     "execution_count": 11,
     "metadata": {},
     "output_type": "execute_result"
    }
   ],
   "source": [
    "func(3,4, \"metadata\")"
   ]
  },
  {
   "cell_type": "code",
   "execution_count": 12,
   "id": "31caa18f-4c5e-405a-9224-72e1f4b8ee3f",
   "metadata": {},
   "outputs": [
    {
     "data": {
      "text/plain": [
       "((['a', 'b'], ['one', 'two'], 'false', 'true'), tuple)"
      ]
     },
     "execution_count": 12,
     "metadata": {},
     "output_type": "execute_result"
    }
   ],
   "source": [
    "func([\"a\", \"b\"], [\"one\", \"two\"], \"false\", \"true\")"
   ]
  },
  {
   "cell_type": "code",
   "execution_count": 13,
   "id": "afacec18-ba8a-414e-8e3b-40ebda26ea8c",
   "metadata": {},
   "outputs": [],
   "source": [
    "def do_mean(prefix, *data, suffix):\n",
    "    print(\"prefix:\", prefix)\n",
    "    print(\"suffix:\", suffix)\n",
    "    \n",
    "    if len(data): \n",
    "        return sum(data) / len(data)\n",
    "    return \"no data provided\""
   ]
  },
  {
   "cell_type": "code",
   "execution_count": 15,
   "id": "24c1db52-175a-4e17-aa88-7375f719efd9",
   "metadata": {},
   "outputs": [
    {
     "name": "stdout",
     "output_type": "stream",
     "text": [
      "prefix: 100\n",
      "suffix: 50\n"
     ]
    },
    {
     "data": {
      "text/plain": [
       "5.0"
      ]
     },
     "execution_count": 15,
     "metadata": {},
     "output_type": "execute_result"
    }
   ],
   "source": [
    "do_mean(100, 1, 2, 3, 4, 5, 6, 7, 8, 9, suffix=50)"
   ]
  },
  {
   "cell_type": "code",
   "execution_count": 17,
   "id": "f85db4e0-836e-4221-81d0-66df24b9bd15",
   "metadata": {},
   "outputs": [
    {
     "name": "stdout",
     "output_type": "stream",
     "text": [
      "prefix: 1\n",
      "suffix: 4\n"
     ]
    },
    {
     "data": {
      "text/plain": [
       "2.5"
      ]
     },
     "execution_count": 17,
     "metadata": {},
     "output_type": "execute_result"
    }
   ],
   "source": [
    "do_mean(1, 2, 3, suffix=4)"
   ]
  },
  {
   "cell_type": "code",
   "execution_count": 18,
   "id": "ea29c5d7-a4ec-4267-a816-509297d50f80",
   "metadata": {},
   "outputs": [
    {
     "name": "stdout",
     "output_type": "stream",
     "text": [
      "prefix: 1\n",
      "suffix: 4\n"
     ]
    },
    {
     "data": {
      "text/plain": [
       "'no data provided'"
      ]
     },
     "execution_count": 18,
     "metadata": {},
     "output_type": "execute_result"
    }
   ],
   "source": [
    "do_mean(prefix=1, suffix=4)"
   ]
  },
  {
   "cell_type": "code",
   "execution_count": 19,
   "id": "ca65706d-c07a-466a-aeaa-e0fa179042b1",
   "metadata": {},
   "outputs": [],
   "source": [
    "def extend(sequence, *args):\n",
    "    for arg in args:\n",
    "        sequence.append(arg)\n",
    "    return sequence"
   ]
  },
  {
   "cell_type": "code",
   "execution_count": 22,
   "id": "dfa0d9f5-8ea6-49b8-bf68-b1d349fb6cb3",
   "metadata": {},
   "outputs": [
    {
     "name": "stdout",
     "output_type": "stream",
     "text": [
      "['josh', 'eric', 'joe', 'putra', 'bangsa', 'putri', 'eko', 'surya']\n"
     ]
    }
   ],
   "source": [
    "names = [\"josh\", \"eric\", \"joe\"]\n",
    "extend(names, *[\"putra\", \"bangsa\", \"putri\"], *[\"eko\", \"surya\"])\n",
    "print(names)"
   ]
  },
  {
   "cell_type": "code",
   "execution_count": 23,
   "id": "1d16abbe-e432-438f-ae4e-6762127c8b9c",
   "metadata": {},
   "outputs": [
    {
     "data": {
      "text/plain": [
       "['josh',\n",
       " 'eric',\n",
       " 'joe',\n",
       " 'putra',\n",
       " 'bangsa',\n",
       " 'putri',\n",
       " 'eko',\n",
       " 'surya',\n",
       " 'elin',\n",
       " 'trinovita']"
      ]
     },
     "execution_count": 23,
     "metadata": {},
     "output_type": "execute_result"
    }
   ],
   "source": [
    "extend(names, \"elin\", \"trinovita\")"
   ]
  },
  {
   "cell_type": "code",
   "execution_count": 24,
   "id": "7fa5758a-78c1-4e14-b87c-80a230c6f4f7",
   "metadata": {},
   "outputs": [],
   "source": [
    "def func(**kwargs):\n",
    "    return kwargs"
   ]
  },
  {
   "cell_type": "code",
   "execution_count": 25,
   "id": "43535c9b-72b3-42f5-9a5a-38b8515bf0d1",
   "metadata": {},
   "outputs": [
    {
     "data": {
      "text/plain": [
       "{'name': 'bitlabs',\n",
       " 'rank': 1,\n",
       " 'another': 'another',\n",
       " 'whatever': 'whatever',\n",
       " 'params': 'params'}"
      ]
     },
     "execution_count": 25,
     "metadata": {},
     "output_type": "execute_result"
    }
   ],
   "source": [
    "func(name=\"bitlabs\", rank=1, another=\"another\", whatever=\"whatever\", params=\"params\")"
   ]
  },
  {
   "cell_type": "code",
   "execution_count": 26,
   "id": "176f5710-4f1b-478e-b52c-7703ec67e3e3",
   "metadata": {},
   "outputs": [
    {
     "data": {
      "text/plain": [
       "{}"
      ]
     },
     "execution_count": 26,
     "metadata": {},
     "output_type": "execute_result"
    }
   ],
   "source": [
    "func()"
   ]
  },
  {
   "cell_type": "code",
   "execution_count": 30,
   "id": "a495d2c7-2d16-48c4-ba0f-5afcf6f43238",
   "metadata": {},
   "outputs": [],
   "source": [
    "def func(x, y, *args, **kwargs):\n",
    "    print(\"x:\", x)\n",
    "    print(\"y:\", y)\n",
    "    print(\"args:\", args)\n",
    "    print(\"kwargs:\", kwargs)"
   ]
  },
  {
   "cell_type": "code",
   "execution_count": 31,
   "id": "daad7276-b1bb-411c-91b4-d154f63f2e73",
   "metadata": {},
   "outputs": [
    {
     "name": "stdout",
     "output_type": "stream",
     "text": [
      "x: 1\n",
      "y: 2\n",
      "args: (3, 4, 5, 6, (7, 8))\n",
      "kwargs: {'name': 'bitlabs', 'year': 2021}\n"
     ]
    }
   ],
   "source": [
    "func(1, 2, 3, 4, 5, 6, (7, 8), name=\"bitlabs\", year=2021)"
   ]
  },
  {
   "cell_type": "code",
   "execution_count": 32,
   "id": "8b6fa646-f348-493e-acdc-c9c473c2d282",
   "metadata": {},
   "outputs": [
    {
     "name": "stdout",
     "output_type": "stream",
     "text": [
      "x: 1\n",
      "y: 2\n",
      "args: (3, 4)\n",
      "kwargs: {'args': 10, 'name': 'data science', 'language': 'python'}\n"
     ]
    }
   ],
   "source": [
    "func(1, 2, 3, 4, args=10, name=\"data science\", language=\"python\")"
   ]
  },
  {
   "cell_type": "code",
   "execution_count": 33,
   "id": "96f6b4ed-616c-46bb-8428-fc8cc87ed1cc",
   "metadata": {},
   "outputs": [
    {
     "data": {
      "text/plain": [
       "['josh',\n",
       " 'eric',\n",
       " 'joe',\n",
       " 'putra',\n",
       " 'bangsa',\n",
       " 'putri',\n",
       " 'eko',\n",
       " 'surya',\n",
       " 'elin',\n",
       " 'trinovita',\n",
       " 10]"
      ]
     },
     "execution_count": 33,
     "metadata": {},
     "output_type": "execute_result"
    }
   ],
   "source": [
    "extend(names, 10)"
   ]
  },
  {
   "cell_type": "code",
   "execution_count": 34,
   "id": "116634e3-2b52-4525-812c-5aa61b7cfd35",
   "metadata": {},
   "outputs": [
    {
     "name": "stdout",
     "output_type": "stream",
     "text": [
      "x: 5\n",
      "y: 50\n",
      "args: ()\n",
      "kwargs: {}\n",
      "x outside function: 10\n",
      "y outside function: 100\n"
     ]
    }
   ],
   "source": [
    "x = 10\n",
    "y = 100\n",
    "\n",
    "func(5, 50)\n",
    "\n",
    "print(\"x outside function:\", x)\n",
    "print(\"y outside function:\", y)"
   ]
  },
  {
   "cell_type": "code",
   "execution_count": 35,
   "id": "ed91f5c8-520d-4a28-862b-11dc1088bc42",
   "metadata": {},
   "outputs": [
    {
     "name": "stdout",
     "output_type": "stream",
     "text": [
      "z: 50\n"
     ]
    }
   ],
   "source": [
    "def scope(x, y):\n",
    "    z = x * y\n",
    "    return z\n",
    "\n",
    "z = scope(5, 10)\n",
    "print(\"z:\", z)"
   ]
  },
  {
   "cell_type": "code",
   "execution_count": 43,
   "id": "aa07c230-5822-4d69-b53f-0692a6278e84",
   "metadata": {},
   "outputs": [
    {
     "name": "stdout",
     "output_type": "stream",
     "text": [
      "total 45\n",
      "total with sum 15\n"
     ]
    }
   ],
   "source": [
    "def scope(x, y):\n",
    "    \"demonstrate variable scope.\"\n",
    "    zz = 10\n",
    "    z = x * y\n",
    "    \n",
    "    def sum(x, y):\n",
    "        return x - y\n",
    "    \n",
    "    return z + sum (x, y)\n",
    "\n",
    "total = scope(5, 10)\n",
    "print(\"total\", total)\n",
    "print(\"total with sum\", sum([5,10]))"
   ]
  },
  {
   "cell_type": "code",
   "execution_count": null,
   "id": "b36ec296-a29d-486b-a797-6e2306e1a97f",
   "metadata": {},
   "outputs": [],
   "source": []
  }
 ],
 "metadata": {
  "kernelspec": {
   "display_name": "Python 3 (ipykernel)",
   "language": "python",
   "name": "python3"
  },
  "language_info": {
   "codemirror_mode": {
    "name": "ipython",
    "version": 3
   },
   "file_extension": ".py",
   "mimetype": "text/x-python",
   "name": "python",
   "nbconvert_exporter": "python",
   "pygments_lexer": "ipython3",
   "version": "3.9.7"
  }
 },
 "nbformat": 4,
 "nbformat_minor": 5
}
