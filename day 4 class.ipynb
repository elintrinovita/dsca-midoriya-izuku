{
 "cells": [
  {
   "cell_type": "code",
   "execution_count": 1,
   "id": "5ca792da-79ce-4d26-a8d4-dc36c83b2fe6",
   "metadata": {},
   "outputs": [],
   "source": [
    "class Cat:\n",
    "    pass"
   ]
  },
  {
   "cell_type": "code",
   "execution_count": 2,
   "id": "8408674e-47b9-4da1-9d46-e7062f484aa8",
   "metadata": {},
   "outputs": [],
   "source": [
    "persian = Cat()\n",
    "scottish_fold = Cat()"
   ]
  },
  {
   "cell_type": "code",
   "execution_count": 4,
   "id": "13f345e0-f7a7-47a6-8b05-6f6894b81af5",
   "metadata": {},
   "outputs": [
    {
     "name": "stdout",
     "output_type": "stream",
     "text": [
      "<__main__.Cat object at 0x00000201219B9220> <class '__main__.Cat'>\n",
      "<__main__.Cat object at 0x00000201219B9340> <class '__main__.Cat'>\n"
     ]
    }
   ],
   "source": [
    "print(persian, type(persian))\n",
    "print(scottish_fold, type(scottish_fold))"
   ]
  },
  {
   "cell_type": "code",
   "execution_count": 5,
   "id": "a51504de-2c0b-4770-9733-eb14cf61a646",
   "metadata": {},
   "outputs": [],
   "source": [
    "persian.kind = \"persian\"\n",
    "scottish_fold.kind = \"scottish_fold\""
   ]
  },
  {
   "cell_type": "code",
   "execution_count": 6,
   "id": "d27a9000-070b-4bfd-b518-916cffa71247",
   "metadata": {},
   "outputs": [
    {
     "name": "stdout",
     "output_type": "stream",
     "text": [
      "kind of cat: persian\n",
      "kind of cat: scottish_fold\n"
     ]
    }
   ],
   "source": [
    "print(\"kind of cat:\", persian.kind)\n",
    "print(\"kind of cat:\", scottish_fold.kind)"
   ]
  },
  {
   "cell_type": "code",
   "execution_count": 7,
   "id": "fa8ff9ec-2b65-4bb6-9f45-5e5572303cd2",
   "metadata": {},
   "outputs": [],
   "source": [
    "class Cat:\n",
    "    num_feet = 4\n",
    "    "
   ]
  },
  {
   "cell_type": "code",
   "execution_count": 9,
   "id": "288e5bd0-1a27-442f-ad2a-159930dd6b77",
   "metadata": {},
   "outputs": [
    {
     "name": "stdout",
     "output_type": "stream",
     "text": [
      "num of feet of persian cat: 4\n",
      "num of feet of scottish fold cat: 4\n"
     ]
    }
   ],
   "source": [
    "persian = Cat()\n",
    "persian.kind = \"persian\"\n",
    "\n",
    "scottish_fold = Cat()\n",
    "scottish_fold.kind = \"scottish fold\"\n",
    "\n",
    "print(\"num of feet of persian cat:\", persian.num_feet)\n",
    "print(\"num of feet of scottish fold cat:\", scottish_fold.num_feet)"
   ]
  },
  {
   "cell_type": "code",
   "execution_count": 10,
   "id": "e773bee0-91ee-4351-b285-fcc3c2fed89a",
   "metadata": {},
   "outputs": [],
   "source": [
    "class Cat:\n",
    "    \"\"\"Cat class\"\"\"\n",
    "    def __init__(self, name, kind=\"persian\"):\n",
    "        self.kind = kind\n",
    "        self.name = name\n",
    "        \n",
    "    def sound(self):\n",
    "        return \"meow..\""
   ]
  },
  {
   "cell_type": "code",
   "execution_count": 18,
   "id": "0f4e8f60-6706-41b1-89fc-70579b385cb8",
   "metadata": {},
   "outputs": [
    {
     "name": "stdout",
     "output_type": "stream",
     "text": [
      "molly is a persian cat. She sounds like meow....\n",
      "ben is a bengal cat. He sounds like meow....\n",
      "thomas is a scottish fold cat. He sounds like meow....\n"
     ]
    }
   ],
   "source": [
    "persian = Cat(\"molly\")\n",
    "bengal = Cat(\"ben\", kind=\"bengal\")\n",
    "scottish_fold = Cat(kind = \"scottish fold\", name=\"thomas\")\n",
    "\n",
    "print(\"{} is a {} cat. She sounds like {}..\".format(persian.name, persian.kind, persian.sound()))\n",
    "print(\"{} is a {} cat. He sounds like {}..\".format(bengal.name, bengal.kind, bengal.sound()))\n",
    "print(\"{} is a {} cat. He sounds like {}..\".format(scottish_fold.name, scottish_fold.kind, scottish_fold.sound()))\n"
   ]
  },
  {
   "cell_type": "code",
   "execution_count": 1,
   "id": "d15143cc-7ddb-450f-b1a8-ba17f3570247",
   "metadata": {},
   "outputs": [],
   "source": [
    "class Cat:\n",
    "    \"Define cat name\"\n",
    "    def __init__(self, name, food, kind=\"persian\", gender=\"male\"):\n",
    "        \"\"\" initiate a cat.\n",
    "        Args:\n",
    "            name: cat's name\n",
    "            food: cat's food\n",
    "            kind: cat's kind\n",
    "            gender: cat's gender\n",
    "        \"\"\"\n",
    "        \n",
    "        self.name = name\n",
    "        self.food = food\n",
    "        self.kind = kind\n",
    "        self.is_male = True if gender == \"male\" else False\n",
    "           \n",
    "    def sound(self):\n",
    "        return \"meow..\"\n",
    "    \n",
    "    def eat(self, food):\n",
    "        \"Eat a given food\"\n",
    "        if food == self.food:\n",
    "            return \"Yeay! it is {}. Time to eat!\".format(food)\n",
    "        return \"Oh no, it's a {}. Only {} please\".format(food, self.food)\n",
    "    \n",
    "    def greet_person(self, person):\n",
    "        \"Greet given person.\"\n",
    "        return \"Hi, {}! Nice to meet you.\".format(person)\n",
    "    \n",
    "    def greet_cat(self, another_cat):\n",
    "        \"Greet another cat.\"\n",
    "        looks = \"handsome\" if another_cat.is_male else \"beautiful\"\n",
    "        return \"Hi. {}! You look {}\".format(another_cat.name, looks)"
   ]
  },
  {
   "cell_type": "code",
   "execution_count": 2,
   "id": "058838c6-2c23-4096-bf02-edd19a4d545c",
   "metadata": {},
   "outputs": [],
   "source": [
    "molly = Cat(\"Molly\", food = \"fish\")\n",
    "ben = Cat(\"Ben\", food = \"pizza\", kind=\"bengal\", gender=\"non-binary\")"
   ]
  },
  {
   "cell_type": "code",
   "execution_count": 3,
   "id": "30cfcd6e-33d6-4727-beb8-5e776d10cf90",
   "metadata": {},
   "outputs": [
    {
     "name": "stdout",
     "output_type": "stream",
     "text": [
      "name: Molly\n",
      "breed: persian\n",
      "gender: male\n",
      "favorite food: fish\n",
      "Hi, john! Nice to meet you.\n",
      "Hi. Ben! You look beautiful\n"
     ]
    }
   ],
   "source": [
    "print(\"name:\", molly.name)\n",
    "print(\"breed:\", molly.kind)\n",
    "print(\"gender:\", \"male\" if molly.is_male else \"female\")\n",
    "print(\"favorite food:\", molly.food)\n",
    "print(molly.greet_person(\"john\"))\n",
    "print(molly.greet_cat(ben))"
   ]
  },
  {
   "cell_type": "code",
   "execution_count": 4,
   "id": "feeae616-40b4-490e-a6f2-9cbdc23c80c3",
   "metadata": {},
   "outputs": [
    {
     "name": "stdout",
     "output_type": "stream",
     "text": [
      "Oh no, it's a pizza. Only fish please\n"
     ]
    }
   ],
   "source": [
    "print(molly.eat(\"pizza\"))"
   ]
  },
  {
   "cell_type": "code",
   "execution_count": 5,
   "id": "92bfc5c1-527d-47e7-ba23-162f57122aac",
   "metadata": {},
   "outputs": [
    {
     "name": "stdout",
     "output_type": "stream",
     "text": [
      "Yeay! it is pizza. Time to eat!\n"
     ]
    }
   ],
   "source": [
    "print(ben.eat(\"pizza\"))"
   ]
  },
  {
   "cell_type": "code",
   "execution_count": 12,
   "id": "efb7097b-c7e7-4541-9e90-73593abd35db",
   "metadata": {},
   "outputs": [
    {
     "name": "stdout",
     "output_type": "stream",
     "text": [
      "True\n"
     ]
    }
   ],
   "source": [
    "print(molly.is_male)"
   ]
  },
  {
   "cell_type": "code",
   "execution_count": 1,
   "id": "69735404-e925-4129-833f-bce9d21fc311",
   "metadata": {},
   "outputs": [
    {
     "name": "stdout",
     "output_type": "stream",
     "text": [
      "['lays', 'chitatos', 'popcorn']\n",
      "['lays', 'chitatos']\n"
     ]
    }
   ],
   "source": [
    "# ===kuiss===\n",
    "\n",
    "products = [\"lays\", \"chitatos\", \"popcorn\"]\n",
    "print (products)\n",
    "\n",
    "product_idx = products.index(\"popcorn\")\n",
    "products.pop(product_idx)\n",
    "print (products)"
   ]
  },
  {
   "cell_type": "code",
   "execution_count": 1,
   "id": "5517da05-d7d7-4528-a35a-fdf57f8ba3d1",
   "metadata": {},
   "outputs": [],
   "source": [
    "class ProductList:\n",
    "    \"\"\"Product status.\"\"\"\n",
    "    def __init__ (self, product_list):\n",
    "        # check to make sure product_list is a list\n",
    "        # if not instance of a list, then show error\n",
    "        if not isinstance(product_list, list):\n",
    "            raise TypeError(\"Product list must be a list\")\n",
    "        self.available_product = product_list\n",
    "        self.sold_product = []\n",
    "        \n",
    "    def show_available_product(self):\n",
    "        string_product = [\"- {}\".format(product) for product in self.available_product]\n",
    "        string_product = \"\\n\".join(string_product)\n",
    "        print(\"Available products:\", string_product, sep=\"\\n\")\n",
    "        \n",
    "    def show_sold_product(self):\n",
    "        string_product = [\"- {}\".format(product) for product in self.sold_product]\n",
    "        string_product = \"\\n\".join(string_product)\n",
    "        print(\"Sold products:\", string_product, sep=\"\\n\")\n",
    "        \n",
    "    def sold(self, product_name):\n",
    "        if product_name not in self.available_product:\n",
    "            return \"{} is already not in our product listing\".format(product_name)\n",
    "        product_idx = self.available_product.index(product_name)\n",
    "        # Remove sold product from available_product\n",
    "        self.available_product.pop(product_idx)\n",
    "        # Add sold product to sold_product\n",
    "        self.sold_product.append(product_name)\n",
    "        \n",
    "    def add_product(self, product_name):\n",
    "        self.available_product.append(product_name)\n",
    "        "
   ]
  },
  {
   "cell_type": "code",
   "execution_count": 3,
   "id": "7aa133c0-5411-4755-aa4d-917825264735",
   "metadata": {},
   "outputs": [
    {
     "ename": "TypeError",
     "evalue": "__init__() takes 2 positional arguments but 4 were given",
     "output_type": "error",
     "traceback": [
      "\u001b[1;31m---------------------------------------------------------------------------\u001b[0m",
      "\u001b[1;31mTypeError\u001b[0m                                 Traceback (most recent call last)",
      "\u001b[1;32m~\\AppData\\Local\\Temp/ipykernel_5344/474987756.py\u001b[0m in \u001b[0;36m<module>\u001b[1;34m\u001b[0m\n\u001b[1;32m----> 1\u001b[1;33m \u001b[0mproducts\u001b[0m \u001b[1;33m=\u001b[0m \u001b[0mProductList\u001b[0m\u001b[1;33m(\u001b[0m\u001b[1;34m\"lays\"\u001b[0m\u001b[1;33m,\u001b[0m \u001b[1;34m\"chitatos\"\u001b[0m\u001b[1;33m,\u001b[0m \u001b[1;34m\"popcorn\"\u001b[0m\u001b[1;33m)\u001b[0m\u001b[1;33m\u001b[0m\u001b[1;33m\u001b[0m\u001b[0m\n\u001b[0m\u001b[0;32m      2\u001b[0m \u001b[0mproducts\u001b[0m\u001b[1;33m.\u001b[0m\u001b[0mshow_available_product\u001b[0m\u001b[1;33m(\u001b[0m\u001b[1;33m)\u001b[0m\u001b[1;33m\u001b[0m\u001b[1;33m\u001b[0m\u001b[0m\n\u001b[0;32m      3\u001b[0m \u001b[1;33m\u001b[0m\u001b[0m\n\u001b[0;32m      4\u001b[0m \u001b[1;31m#add new product\u001b[0m\u001b[1;33m\u001b[0m\u001b[1;33m\u001b[0m\u001b[0m\n\u001b[0;32m      5\u001b[0m \u001b[0mlist_new_products\u001b[0m \u001b[1;33m=\u001b[0m \u001b[1;33m[\u001b[0m\u001b[1;34m\"cheetos\"\u001b[0m\u001b[1;33m,\u001b[0m \u001b[1;34m\"choco\"\u001b[0m\u001b[1;33m,\u001b[0m \u001b[1;34m\"waffle\"\u001b[0m\u001b[1;33m]\u001b[0m\u001b[1;33m\u001b[0m\u001b[1;33m\u001b[0m\u001b[0m\n",
      "\u001b[1;31mTypeError\u001b[0m: __init__() takes 2 positional arguments but 4 were given"
     ]
    }
   ],
   "source": [
    "products = ProductList(\"lays\", \"chitatos\", \"popcorn\")\n",
    "products.show_available_product()\n",
    "\n",
    "#add new product\n",
    "list_new_products = [\"cheetos\", \"choco\", \"waffle\"]\n",
    "for product in list_new_products:\n",
    "    product.add_product(product)\n",
    "\n",
    "products.show_available_product()\n",
    "products.show_sold_product()\n",
    "\n",
    "#some productare sold already\n",
    "sold_products = [\"waffle, lays\"]\n",
    "for sold_product in sold_products:\n",
    "    product.sold(sold_product)\n",
    "\n",
    "product.show_available_product()\n",
    "product.show_sold_product()"
   ]
  },
  {
   "cell_type": "code",
   "execution_count": null,
   "id": "063dd736-1b26-46a2-8801-e1935a8d842d",
   "metadata": {},
   "outputs": [],
   "source": []
  },
  {
   "cell_type": "code",
   "execution_count": 6,
   "id": "8ea8a094-6508-4a98-9e62-716386beebd2",
   "metadata": {},
   "outputs": [],
   "source": []
  },
  {
   "cell_type": "code",
   "execution_count": null,
   "id": "33201fb9-f274-485f-a983-7c666b3f6362",
   "metadata": {},
   "outputs": [],
   "source": []
  },
  {
   "cell_type": "code",
   "execution_count": null,
   "id": "fe764456-d8bc-4aa2-adeb-0a540d3c94fb",
   "metadata": {},
   "outputs": [],
   "source": []
  }
 ],
 "metadata": {
  "kernelspec": {
   "display_name": "Python 3 (ipykernel)",
   "language": "python",
   "name": "python3"
  },
  "language_info": {
   "codemirror_mode": {
    "name": "ipython",
    "version": 3
   },
   "file_extension": ".py",
   "mimetype": "text/x-python",
   "name": "python",
   "nbconvert_exporter": "python",
   "pygments_lexer": "ipython3",
   "version": "3.9.7"
  }
 },
 "nbformat": 4,
 "nbformat_minor": 5
}
