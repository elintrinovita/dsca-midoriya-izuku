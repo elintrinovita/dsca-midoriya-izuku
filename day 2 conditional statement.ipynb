{
 "cells": [
  {
   "cell_type": "code",
   "execution_count": 1,
   "id": "029a64d5-1363-4569-8fe7-c27a1f58a998",
   "metadata": {},
   "outputs": [
    {
     "name": "stdout",
     "output_type": "stream",
     "text": [
      "this will be printed\n"
     ]
    }
   ],
   "source": [
    "if True:\n",
    "    print (\"this will be printed\")\n",
    "       "
   ]
  },
  {
   "cell_type": "code",
   "execution_count": 7,
   "id": "83165c4f-36c5-4a12-8f36-205765b57741",
   "metadata": {},
   "outputs": [
    {
     "name": "stdout",
     "output_type": "stream",
     "text": [
      "let's buy comic!\n"
     ]
    }
   ],
   "source": [
    "money = 50000\n",
    "comic_price = 20000\n",
    "if money >= comic_price:\n",
    "    print (\"let's buy comic!\")\n"
   ]
  },
  {
   "cell_type": "code",
   "execution_count": 9,
   "id": "f7e5326c-33e0-4b4b-ad94-0908b8ba25ea",
   "metadata": {},
   "outputs": [],
   "source": [
    "money = 10000\n",
    "is_enough_money = money >= comic_price\n",
    "if is_enough_money:\n",
    "    print (\"let's buy comic!\")"
   ]
  },
  {
   "cell_type": "code",
   "execution_count": 15,
   "id": "5e185d4f-c789-4d43-8ae2-eb481e568ce4",
   "metadata": {},
   "outputs": [
    {
     "name": "stdout",
     "output_type": "stream",
     "text": [
      "let's go home and collect more money\n",
      "terima kasih sudah datang!\n"
     ]
    }
   ],
   "source": [
    "money = 10000\n",
    "if money >= comic_price:\n",
    "    print(\"let's buy comic!\")\n",
    "else: \n",
    "    print(\"let's go home and collect more money\")\n",
    "print(\"terima kasih sudah datang!\")\n",
    "\n"
   ]
  },
  {
   "cell_type": "code",
   "execution_count": 1,
   "id": "90f4fd05-dfbc-41b4-9ad9-aba2caf04c4a",
   "metadata": {},
   "outputs": [
    {
     "name": "stdout",
     "output_type": "stream",
     "text": [
      "let's go home and collect more money\n"
     ]
    }
   ],
   "source": [
    "money = 10000\n",
    "if (money >= 20000) and (money <= 10000):\n",
    "    print (\"let's buy a comic\")\n",
    "else:\n",
    "    if (money >= 75000) and (money < 100000):\n",
    "        print (\"let's buy a brand new novel\")\n",
    "    else:\n",
    "        if (money >= 100000):\n",
    "               print (\"yup! let's buy expensive magazine\")\n",
    "        else:\n",
    "            print(\"let's go home and collect more money\")"
   ]
  },
  {
   "cell_type": "code",
   "execution_count": 5,
   "id": "d749ea34-c8ff-402b-b5c9-4d4db497c464",
   "metadata": {},
   "outputs": [
    {
     "name": "stdout",
     "output_type": "stream",
     "text": [
      "no prize\n"
     ]
    }
   ],
   "source": [
    "points = 80\n",
    "if (points >=1) and (points <= 50):\n",
    "    print (\"wooden rabbit\")\n",
    "else:\n",
    "    if (points >=51) and (points <=150):\n",
    "        print (\"no prize\")\n",
    "    else:\n",
    "        if (points >=151) and (points<=180):\n",
    "            print (\"wafer-thin mint\")\n",
    "        else:\n",
    "            if (points >=181) and (points<=200):\n",
    "                print (\"penguin\")"
   ]
  },
  {
   "cell_type": "code",
   "execution_count": 6,
   "id": "1c165905-4354-4c68-8096-e6e857b8b321",
   "metadata": {},
   "outputs": [
    {
     "name": "stdout",
     "output_type": "stream",
     "text": [
      "untung ada elemennya! di index: 2\n"
     ]
    }
   ],
   "source": [
    "numbers = [1, 2, 3, 4, 5]\n",
    "number = 3\n",
    "if number in numbers:\n",
    "    print (\"untung ada elemennya! di index:\", numbers.index(number))\n",
    "else:\n",
    "    print (\"sayang sekali, {} tidak ditemukan. tambahkan {} ke dalam list tersebut!\")"
   ]
  },
  {
   "cell_type": "code",
   "execution_count": null,
   "id": "a42a2dd8-bfd3-4ef6-aa4e-817c59b8f408",
   "metadata": {},
   "outputs": [],
   "source": []
  }
 ],
 "metadata": {
  "kernelspec": {
   "display_name": "Python 3 (ipykernel)",
   "language": "python",
   "name": "python3"
  },
  "language_info": {
   "codemirror_mode": {
    "name": "ipython",
    "version": 3
   },
   "file_extension": ".py",
   "mimetype": "text/x-python",
   "name": "python",
   "nbconvert_exporter": "python",
   "pygments_lexer": "ipython3",
   "version": "3.9.7"
  }
 },
 "nbformat": 4,
 "nbformat_minor": 5
}
