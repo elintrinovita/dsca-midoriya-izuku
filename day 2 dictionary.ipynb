{
 "cells": [
  {
   "cell_type": "code",
   "execution_count": 5,
   "id": "de8753f3-8d2e-40f3-bbb1-48c9dd03c7ef",
   "metadata": {},
   "outputs": [
    {
     "name": "stdout",
     "output_type": "stream",
     "text": [
      "{'john': 166, 'stuart': 169, 'kevin': 171} <class 'dict'>\n",
      "john 166\n",
      "169\n",
      "171\n"
     ]
    }
   ],
   "source": [
    "# =====dictionary=====\n",
    "\n",
    "height = {\"john\" : 166, \"stuart\" : 169, \"kevin\" : 171}\n",
    "print(height, type(height))\n",
    "\n",
    "print(\"john\", height[\"john\"])\n",
    "print(height[\"stuart\"])\n",
    "print(height[\"kevin\"])"
   ]
  },
  {
   "cell_type": "code",
   "execution_count": 7,
   "id": "79d63b61-4ecc-43e8-b6fa-5654b5899fd1",
   "metadata": {},
   "outputs": [
    {
     "name": "stdout",
     "output_type": "stream",
     "text": [
      "{'john': 190, 'stuart': 169, 'kevin': 171, 'Kevin': 170}\n"
     ]
    }
   ],
   "source": [
    "height = {\"john\" : 166, \"stuart\" : 169, \"kevin\" : 171, \"john\" : 190, \"Kevin\" : 170}\n",
    "print(height)"
   ]
  },
  {
   "cell_type": "code",
   "execution_count": 14,
   "id": "5db1ebe5-0887-4f83-844e-253847f7113b",
   "metadata": {},
   "outputs": [
    {
     "name": "stdout",
     "output_type": "stream",
     "text": [
      "{'john': 166, 'stuart': 169, 'kevin': 171}\n",
      "{}\n",
      "{'kevin': 179, 'andrew': 190}\n"
     ]
    }
   ],
   "source": [
    "dict() == {}\n",
    "dict_heights = dict(john=166, stuart=169, kevin=171)\n",
    "print(dict_heights)\n",
    "\n",
    "empty_dict = {}\n",
    "print(empty_dict)\n",
    "empty_dict[\"kevin\"] = 179\n",
    "empty_dict[\"andrew\"] = 190\n",
    "print(empty_dict)\n"
   ]
  },
  {
   "cell_type": "code",
   "execution_count": 16,
   "id": "6bd9f0d0-18cc-473f-94e2-28d2a680bd26",
   "metadata": {},
   "outputs": [
    {
     "name": "stdout",
     "output_type": "stream",
     "text": [
      "{'jakarta': 20.8, 'surabaya': 18.2, 'bandung': 15.1, 'semarang': 12.3} <class 'dict'>\n"
     ]
    }
   ],
   "source": [
    "population = { \"jakarta\" : 20.8, \"surabaya\" : 18.2, \"bandung\" : 15.1, \"semarang\" : 12.3}\n",
    "print(population, type (population))"
   ]
  },
  {
   "cell_type": "code",
   "execution_count": 17,
   "id": "72bd5fcb-d767-4a4b-984d-0eccbb5f93a2",
   "metadata": {},
   "outputs": [
    {
     "name": "stdout",
     "output_type": "stream",
     "text": [
      "dict_keys(['john', 'stuart', 'kevin', 'Kevin']) <class 'dict_keys'>\n",
      "['john', 'stuart', 'kevin', 'Kevin']\n"
     ]
    }
   ],
   "source": [
    "print(height.keys(), type (height.keys()))\n",
    "print(list(height.keys()))"
   ]
  },
  {
   "cell_type": "code",
   "execution_count": 20,
   "id": "e2ef8e80-f30b-4fba-a045-f7fb012fc325",
   "metadata": {},
   "outputs": [
    {
     "name": "stdout",
     "output_type": "stream",
     "text": [
      "dict_values([190, 169, 171, 170])\n",
      "[190, 169, 171, 170]\n"
     ]
    }
   ],
   "source": [
    "print(height.values())\n",
    "print(list(height.values()))"
   ]
  },
  {
   "cell_type": "code",
   "execution_count": 21,
   "id": "3118fb6d-e7ed-4273-8e40-b9d32b98a83c",
   "metadata": {},
   "outputs": [
    {
     "name": "stdout",
     "output_type": "stream",
     "text": [
      "dict_items([('john', 190), ('stuart', 169), ('kevin', 171), ('Kevin', 170)])\n",
      "[('john', 190), ('stuart', 169), ('kevin', 171), ('Kevin', 170)]\n"
     ]
    }
   ],
   "source": [
    "print(height.items())\n",
    "print(list(height.items()))"
   ]
  },
  {
   "cell_type": "code",
   "execution_count": 22,
   "id": "c516c581-ff11-40bf-b8c6-93f3ff271414",
   "metadata": {},
   "outputs": [
    {
     "name": "stdout",
     "output_type": "stream",
     "text": [
      "171\n",
      "None\n",
      "Oops. key not found!\n"
     ]
    }
   ],
   "source": [
    "print(height.get(\"kevin\"))\n",
    "print(height.get(\"michael\"))\n",
    "print(height.get(\"michael\", \"Oops. key not found!\"))"
   ]
  },
  {
   "cell_type": "code",
   "execution_count": 23,
   "id": "bf26b8f2-4d06-4b58-9b43-380fd603731e",
   "metadata": {},
   "outputs": [
    {
     "name": "stdout",
     "output_type": "stream",
     "text": [
      "{'john': 190, 'stuart': 169, 'kevin': 195, 'Kevin': 170, 'michael': 177}\n"
     ]
    }
   ],
   "source": [
    "height.update({\"michael\" : 177, \"kevin\" : 195})\n",
    "print(height)"
   ]
  },
  {
   "cell_type": "code",
   "execution_count": null,
   "id": "63d2dccc-ed7c-4a50-a403-15569bc06946",
   "metadata": {},
   "outputs": [],
   "source": []
  }
 ],
 "metadata": {
  "kernelspec": {
   "display_name": "Python 3 (ipykernel)",
   "language": "python",
   "name": "python3"
  },
  "language_info": {
   "codemirror_mode": {
    "name": "ipython",
    "version": 3
   },
   "file_extension": ".py",
   "mimetype": "text/x-python",
   "name": "python",
   "nbconvert_exporter": "python",
   "pygments_lexer": "ipython3",
   "version": "3.9.7"
  }
 },
 "nbformat": 4,
 "nbformat_minor": 5
}
