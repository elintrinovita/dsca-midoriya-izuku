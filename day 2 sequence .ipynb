{
 "cells": [
  {
   "cell_type": "code",
   "execution_count": 18,
   "id": "b77f338e-e08a-40b2-9b4e-87e54d6cc24e",
   "metadata": {},
   "outputs": [
    {
     "name": "stdout",
     "output_type": "stream",
     "text": [
      "[] <class 'list'>\n",
      "['january', 'february', 'march', 'april'] <class 'type'>\n",
      "[2016, 2017, 2018, 2019, 2020]\n",
      "[1000, 3.14, 'bitlabs', True, -9, (7+2j), -1.0] <class 'type'>\n",
      "['january', 'february', 'march', 'april']\n",
      "[] <class 'list'>\n",
      "[1, 1, 2, 3, 4] <class 'list'>\n"
     ]
    }
   ],
   "source": [
    "#======LIST======\n",
    "\n",
    "empty_list = []\n",
    "first_quarter_months = [\"january\", \"february\", \"march\"]\n",
    "last_five_years = [2016, 2017, 2018, 2019, 2020]\n",
    "list_mix = [1000, 3.14, \"bitlabs\", True, -9, 7+2j, -1.]\n",
    "first_quarter_months.append(\"april\")\n",
    "\n",
    "print(empty_list, type ([empty_list]))\n",
    "print(first_quarter_months, type)\n",
    "print(last_five_years)\n",
    "print(list_mix, type)\n",
    "\n",
    "print(first_quarter_months)\n",
    "\n",
    "print([], type ([]))\n",
    "print([1, 1, 2, 3, 4], type ([1, 1, 2, 3, 4]))\n"
   ]
  },
  {
   "cell_type": "code",
   "execution_count": 26,
   "id": "ea065dcb-7bb2-484b-95f7-038de8b207de",
   "metadata": {},
   "outputs": [
    {
     "name": "stdout",
     "output_type": "stream",
     "text": [
      "lenght of empty_list var: 0 []\n",
      "lenght of first_quarter_months var: 4 ['january', 'february', 'march', 'april']\n"
     ]
    }
   ],
   "source": [
    "print(\"lenght of empty_list var:\", len(empty_list), empty_list)\n",
    "print(\"lenght of first_quarter_months var:\", len(first_quarter_months), first_quarter_months)\n"
   ]
  },
  {
   "cell_type": "code",
   "execution_count": 24,
   "id": "8f9e18e9-95cb-45c1-b2bb-d96df6b4af16",
   "metadata": {},
   "outputs": [
    {
     "name": "stdout",
     "output_type": "stream",
     "text": [
      "[]\n",
      "['b', 'i', 't', 'l', 'a', 'b', 's']\n"
     ]
    }
   ],
   "source": [
    "print(list())\n",
    "print(list(\"bitlabs\"))"
   ]
  },
  {
   "cell_type": "code",
   "execution_count": 4,
   "id": "c5df0103-9c64-40ba-ae7b-c4e34e6c55fa",
   "metadata": {},
   "outputs": [
    {
     "name": "stdout",
     "output_type": "stream",
     "text": [
      "numbers less than ten: [0, 1, 2, 3, 4, 5, 6, 7, 8, 9]\n",
      "descending order: [9, 8, 7, 6, 5, 4, 3, 2, 1, 0]\n",
      "0bit1bit2bit3bit4bit5bit6bit7bit8bit9\n"
     ]
    }
   ],
   "source": [
    "less_than_ten = [0, 1, 2, 3, 4, 5, 6, 7, 8, 9]\n",
    "print(\"numbers less than ten:\", less_than_ten)\n",
    "\n",
    "reverse_less_than_ten = sorted(less_than_ten, reverse=True)\n",
    "print(\"descending order:\", reverse_less_than_ten)\n",
    "\n",
    "less_than_ten_2 = [\"0\", \"1\", \"2\", \"3\", \"4\", \"5\", \"6\", \"7\", \"8\", \"9\"]\n",
    "bit = \"bit\"\n",
    "text_less_than_ten_2 = bit.join(less_than_ten_2)\n",
    "print(text_less_than_ten_2)"
   ]
  },
  {
   "cell_type": "code",
   "execution_count": 36,
   "id": "51880d5d-9dc8-49b5-a9c6-4004c3af245c",
   "metadata": {},
   "outputs": [
    {
     "name": "stdout",
     "output_type": "stream",
     "text": [
      "names [0] john\n",
      "names [1] andrew\n",
      "names [2] sebastian\n",
      "names [3] Josh\n",
      "\n",
      "names [-4] john\n",
      "names [-3] andrew\n",
      "names [-2] sebastian\n",
      "names [-1] Josh\n",
      "\n",
      "4\n",
      "\n",
      "first_name: john john\n",
      "first_name: Josh Josh\n"
     ]
    }
   ],
   "source": [
    "# indexing dan slicing\n",
    "names = [\"john\", \"andrew\", \"sebastian\", \"Josh\"]\n",
    "n_names = len (names)\n",
    "\n",
    "print(\"names [0]\", names [0])\n",
    "print(\"names [1]\", names [1])\n",
    "print(\"names [2]\", names [2])\n",
    "print(\"names [3]\", names [3])\n",
    "print()\n",
    "print(\"names [-4]\", names [-4])\n",
    "print(\"names [-3]\", names [-3])\n",
    "print(\"names [-2]\", names [-2])\n",
    "print(\"names [-1]\", names [-1])\n",
    "print()\n",
    "print (n_names)\n",
    "print()\n",
    "\n",
    "\n",
    "print (\"first_name:\", names[0], names[-n_names])\n",
    "print (\"first_name:\", names[n_names-1], names[-1])"
   ]
  },
  {
   "cell_type": "code",
   "execution_count": 42,
   "id": "f4c2235b-3c58-4999-98b0-aef2f86eecf7",
   "metadata": {},
   "outputs": [
    {
     "name": "stdout",
     "output_type": "stream",
     "text": [
      "['john', 'andrew', 'sebastian']\n",
      "['andrew']\n",
      "['andrew', 'sebastian']\n"
     ]
    }
   ],
   "source": [
    "print (names[0:3])\n",
    "print (names[1:2])\n",
    "print (names[-3:-1])"
   ]
  },
  {
   "cell_type": "code",
   "execution_count": 10,
   "id": "9c0ea4dc-0c46-4d1c-baa4-bf5f154a9f86",
   "metadata": {},
   "outputs": [
    {
     "name": "stdout",
     "output_type": "stream",
     "text": [
      "['June 21, 2001', 'December 4, 2002', 'August 23, 2003', 'March 29, 2004', 'August 1, 2005', 'July 22, 2006', 'July 11, 2007', 'November 13, 2008', 'March 20, 2009', 'March 9, 2010']\n",
      "\n",
      "['December 4, 2002', 'March 29, 2004', 'July 22, 2006', 'November 13, 2008', 'March 9, 2010']\n",
      "['June 21, 2001', 'August 23, 2003', 'August 1, 2005', 'July 11, 2007', 'March 20, 2009']\n"
     ]
    }
   ],
   "source": [
    "random_dates = ['June 21, 2001', 'December 4, 2002', 'August 23, 2003', \n",
    "                'March 29, 2004', 'August 1, 2005', 'July 22, 2006',\n",
    "                'July 11, 2007', 'November 13, 2008', 'March 20, 2009', \n",
    "                'March 9, 2010']\n",
    "print(random_dates)\n",
    "print()\n",
    "even_dates = random_dates[1::2]\n",
    "print(even_dates)\n",
    "odd_dates = random_dates[0::2]\n",
    "print(odd_dates)\n",
    "\n"
   ]
  },
  {
   "cell_type": "code",
   "execution_count": 30,
   "id": "1e7c0e08-5a6c-42ff-9a4f-b569f0692299",
   "metadata": {},
   "outputs": [
    {
     "name": "stdout",
     "output_type": "stream",
     "text": [
      "mark\n",
      "elon\n",
      "ceo [0] mark\n",
      "('mark', 'elon') <class 'tuple'>\n",
      "('mark', 'elon') <class 'tuple'>\n",
      "('',) <class 'tuple'>\n",
      "bitlabs <class 'str'>\n"
     ]
    }
   ],
   "source": [
    "# ========Tuple=======\n",
    "\n",
    "\n",
    "empty_tuple = ()\n",
    "ceo = (\"mark\", \"elon\")\n",
    "first_ceo, second_ceo = ceo\n",
    "print(first_ceo)\n",
    "print(second_ceo)\n",
    "\n",
    "print(\"ceo [0]\", ceo [0])\n",
    "\n",
    "same_ceo = \"mark\", \"elon\"\n",
    "print (ceo, type (ceo))\n",
    "print (same_ceo, type (same_ceo))\n",
    "\n",
    "bootcamp = \"\",\n",
    "str_bootcamp = \"bitlabs\"\n",
    "print(bootcamp, type (bootcamp))\n",
    "print(str_bootcamp, type (str_bootcamp))"
   ]
  },
  {
   "cell_type": "code",
   "execution_count": 20,
   "id": "472979b6-d651-47f1-873b-5da7652ecb8b",
   "metadata": {},
   "outputs": [
    {
     "name": "stdout",
     "output_type": "stream",
     "text": [
      "(['john', 'anderson'], ['josh', 'andrew'])\n",
      "[['john', 'anderson'], ['josh', 'andrew']]\n"
     ]
    }
   ],
   "source": [
    "tuple_of_names = [\"john\", \"anderson\"], [\"josh\", \"andrew\"]\n",
    "print(tuple_of_names)\n",
    "\n",
    "list_of_names = [[\"john\", \"anderson\"], [\"josh\", \"andrew\"]]\n",
    "print(list_of_names)"
   ]
  },
  {
   "cell_type": "code",
   "execution_count": 34,
   "id": "169538ef-933e-4187-9889-2d39ff6f57c4",
   "metadata": {},
   "outputs": [
    {
     "name": "stdout",
     "output_type": "stream",
     "text": [
      "(-6.91589099, 107.62285863)\n",
      "location [0] -6.91589099\n",
      "-6.91589099 107.62285863\n"
     ]
    }
   ],
   "source": [
    "location = -6.91589099, 107.62285863\n",
    "print(location)\n",
    "print (\"location [0]\", location [0])\n",
    "\n",
    "longitude, latitude = location\n",
    "print(longitude, latitude)\n"
   ]
  },
  {
   "cell_type": "code",
   "execution_count": 38,
   "id": "f0d14621-2c2b-4c24-af45-4da91fcde5a6",
   "metadata": {},
   "outputs": [
    {
     "name": "stdout",
     "output_type": "stream",
     "text": [
      "['january', 'february', 'march'] <class 'list'>\n",
      "('january', 'february', 'march') <class 'tuple'>\n",
      "('b', 'i', 't', 'l', 'a', 'b', 's')\n"
     ]
    }
   ],
   "source": [
    "first_quarter_months = ['january', \"february\", \"march\"]\n",
    "print(first_quarter_months, type (first_quarter_months))\n",
    "print(tuple(first_quarter_months), type (tuple(first_quarter_months)))\n",
    "print(tuple(\"bitlabs\"))"
   ]
  },
  {
   "cell_type": "code",
   "execution_count": 42,
   "id": "7ee58b04-0031-4d6b-8d92-9dd9138b707c",
   "metadata": {},
   "outputs": [
    {
     "name": "stdout",
     "output_type": "stream",
     "text": [
      "['mark', 'elon']\n",
      "['william', 'elon']\n"
     ]
    }
   ],
   "source": [
    "list_ceo = list(ceo)\n",
    "print(list_ceo)\n",
    "list_ceo[0] = \"william\"\n",
    "print(list_ceo)"
   ]
  },
  {
   "cell_type": "code",
   "execution_count": 43,
   "id": "fc263d73-ab26-4e3e-85ff-57e7adcbf279",
   "metadata": {},
   "outputs": [
    {
     "data": {
      "text/plain": [
       "(1, 1)"
      ]
     },
     "execution_count": 43,
     "metadata": {},
     "output_type": "execute_result"
    }
   ],
   "source": [
    "ceo.count(\"elon\"), ceo.index(\"elon\")"
   ]
  },
  {
   "cell_type": "code",
   "execution_count": 44,
   "id": "d536f7b8-7fb9-4853-bfc8-004d9a144dc1",
   "metadata": {},
   "outputs": [
    {
     "name": "stdout",
     "output_type": "stream",
     "text": [
      "{1, 2, 3, 4, 5} <class 'set'>\n",
      "{'kevin', 'Michael', 'Kevin', 'Stuart', 'Bob'} <class 'set'>\n"
     ]
    }
   ],
   "source": [
    "# =======set=======\n",
    "\n",
    "set_is_unique = {1, 2, 3, 4, 5, 1, 2}\n",
    "string_in_set = {\"Bob\", \"Michael\", \"Kevin\", \"Stuart\", \"Bob\", \"Stuart\", \"kevin\"}\n",
    "\n",
    "print(set_is_unique, type (set_is_unique))\n",
    "print(string_in_set, type (string_in_set))"
   ]
  },
  {
   "cell_type": "code",
   "execution_count": 47,
   "id": "d8da96ad-f452-44e7-a52a-09edd671576c",
   "metadata": {},
   "outputs": [
    {
     "name": "stdout",
     "output_type": "stream",
     "text": [
      "['batman', 'robin', 'iron man', 'robin', 'captain america', 'iron man', 'iron man', 'superman', 'batman', 'superman']\n",
      "{'captain america', 'batman', 'iron man', 'superman', 'robin'}\n"
     ]
    }
   ],
   "source": [
    "empty_set = set()\n",
    "purchased_history = [\"batman\", \"robin\", \"iron man\", \"robin\", \"captain america\",\n",
    "                     \"iron man\", \"iron man\", \"superman\", \"batman\", \"superman\"]\n",
    "unique_purchased = set(purchased_history)\n",
    "\n",
    "print(purchased_history)\n",
    "print(unique_purchased)"
   ]
  },
  {
   "cell_type": "code",
   "execution_count": 10,
   "id": "8cf1fbb7-2b28-4362-935c-e97ceb491e70",
   "metadata": {},
   "outputs": [
    {
     "name": "stdout",
     "output_type": "stream",
     "text": [
      "male names {'Adam', 'Tom', 'Eric', 'Lee'}\n",
      "female names {'Sue', 'Mary', 'Lee', 'Kate'}\n",
      "{'Adam', 'Tom', 'Eric'}\n",
      "{'Sue', 'Mary', 'Kate'}\n",
      "{'Mary', 'Lee', 'Adam', 'Sue', 'Tom', 'Eric', 'Kate'}\n",
      "{'Lee'}\n"
     ]
    }
   ],
   "source": [
    "male_names = {\"Eric\", \"Tom\", \"Adam\", \"Lee\"}\n",
    "female_names = {\"Sue\", \"Mary\", \"Kate\", \"Lee\"}\n",
    "print(\"male names\", male_names)\n",
    "print(\"female names\", female_names)\n",
    "\n",
    "only_males = male_names.difference(female_names)\n",
    "only_female = female_names.difference(male_names)\n",
    "\n",
    "print(only_males)\n",
    "print(only_female)\n",
    "\n",
    "all_names = female_names.union(male_names)\n",
    "print(all_names)\n",
    "\n",
    "female_male_names = female_names.intersection(male_names)\n",
    "print (female_male_names)"
   ]
  },
  {
   "cell_type": "code",
   "execution_count": 8,
   "id": "7c10dd75-8635-45ce-a95c-bd195acf018f",
   "metadata": {},
   "outputs": [
    {
     "name": "stdout",
     "output_type": "stream",
     "text": [
      "['batman', 'robin', 'iron man', 'robin', 'captain america', 'iron man', 'iron man', 'superman', 'batman', 'superman']\n",
      "{'iron man', 'captain america', 'robin', 'batman', 'superman'}\n"
     ]
    }
   ],
   "source": [
    "empty_set = set()\n",
    "purchased_history = [\"batman\", \"robin\", \"iron man\", \"robin\", \"captain america\",\n",
    "                     \"iron man\", \"iron man\", \"superman\", \"batman\", \"superman\"]\n",
    "unique_purchased = set(purchased_history)\n",
    "print(purchased_history)\n",
    "print(unique_purchased)"
   ]
  },
  {
   "cell_type": "code",
   "execution_count": 12,
   "id": "10d88b65-15cc-4989-a0f2-18998ff5ed2e",
   "metadata": {},
   "outputs": [
    {
     "name": "stdout",
     "output_type": "stream",
     "text": [
      "{'Sue', 'Mary', 'Kate'}\n",
      "{'Adam', 'Tom', 'Eric'}\n"
     ]
    }
   ],
   "source": [
    "print (female_names - male_names)\n",
    "print (male_names - female_names)"
   ]
  },
  {
   "cell_type": "code",
   "execution_count": null,
   "id": "a50b9c6d-0f75-4ea6-b6de-16642ad15c18",
   "metadata": {},
   "outputs": [],
   "source": []
  }
 ],
 "metadata": {
  "kernelspec": {
   "display_name": "Python 3 (ipykernel)",
   "language": "python",
   "name": "python3"
  },
  "language_info": {
   "codemirror_mode": {
    "name": "ipython",
    "version": 3
   },
   "file_extension": ".py",
   "mimetype": "text/x-python",
   "name": "python",
   "nbconvert_exporter": "python",
   "pygments_lexer": "ipython3",
   "version": "3.9.7"
  }
 },
 "nbformat": 4,
 "nbformat_minor": 5
}
