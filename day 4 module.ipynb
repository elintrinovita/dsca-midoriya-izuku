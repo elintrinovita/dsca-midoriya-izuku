{
 "cells": [
  {
   "cell_type": "code",
   "execution_count": 25,
   "id": "5656c93c-d071-49b2-83da-b4ed1bbcfe0a",
   "metadata": {},
   "outputs": [],
   "source": [
    "!python fastfood.py"
   ]
  },
  {
   "cell_type": "code",
   "execution_count": 5,
   "id": "5b8d2ee8-039d-4d61-8d99-6f0b5360b913",
   "metadata": {},
   "outputs": [
    {
     "name": "stdout",
     "output_type": "stream",
     "text": [
      "Let's go to Wendys for lunch\n"
     ]
    }
   ],
   "source": [
    "!python lunch.py"
   ]
  },
  {
   "cell_type": "code",
   "execution_count": 17,
   "id": "12031a9d-f9d5-4389-a283-7ab67cd4d5e1",
   "metadata": {},
   "outputs": [
    {
     "name": "stdout",
     "output_type": "stream",
     "text": [
      "Let's go to CFC for lunch!\n",
      "Should we take out? Yes!\n",
      "Available fastfood places: ['McDonalds', 'KFC', 'Burger King', 'Wendys', 'Pizza Hut', \"Toby's\", 'Lawless', 'CFC']\n",
      "available advice responses: ['Yes!', 'No!', 'Let me think first', 'Sorry, what?']\n"
     ]
    }
   ],
   "source": [
    "!python questions.py"
   ]
  },
  {
   "cell_type": "code",
   "execution_count": 5,
   "id": "41d1a743-c836-4b1b-8ccf-6755bc40e781",
   "metadata": {},
   "outputs": [],
   "source": [
    "import random\n",
    "import choices\n",
    "import math"
   ]
  },
  {
   "cell_type": "code",
   "execution_count": 7,
   "id": "b827b812-331a-4560-a820-4390a36b10af",
   "metadata": {},
   "outputs": [
    {
     "name": "stdout",
     "output_type": "stream",
     "text": [
      "[25, 26, 37, 47, 38, 38, 39, 45, 39, 32, 11, 30, 33, 24, 25, 35, 23, 15, 21, 16, 35, 27, 22, 24, 44, 13, 20, 38, 10, 12, 16, 42, 23, 18, 41, 21, 38, 11, 11, 33, 42, 22, 42, 42, 43, 21, 35, 20, 20, 39]\n",
      "[-0.13235175009777303, 0.7625584504796027, -0.6435381333569995, 0.123573122745224, 0.2963685787093853, 0.2963685787093853, 0.9637953862840878, 0.8509035245341184, 0.9637953862840878, 0.5514266812416906, -0.9999902065507035, -0.9880316240928618, 0.9999118601072672, -0.9055783620066238, -0.13235175009777303, -0.428182669496151, -0.8462204041751706, 0.6502878401571168, 0.8366556385360561, -0.2879033166650653, -0.428182669496151, 0.956375928404503, -0.008851309290403876, -0.9055783620066238, 0.017701925105413577, 0.4201670368266409, 0.9129452507276277, 0.2963685787093853, -0.5440211108893698, -0.5365729180004349, -0.2879033166650653, -0.9165215479156338, -0.8462204041751706, -0.7509872467716762, -0.158622668804709, 0.8366556385360561, 0.2963685787093853, -0.9999902065507035, -0.9999902065507035, 0.9999118601072672, -0.9165215479156338, -0.008851309290403876, -0.9165215479156338, -0.9165215479156338, -0.8317747426285983, 0.8366556385360561, -0.428182669496151, 0.9129452507276277, 0.9129452507276277, 0.9637953862840878]\n"
     ]
    }
   ],
   "source": [
    "numbers = [random.randint(10, 50) for _ in range(50)]\n",
    "numbers_sin = [math.sin(number) for number in numbers]\n",
    "print (numbers)\n",
    "print (numbers_sin)"
   ]
  },
  {
   "cell_type": "code",
   "execution_count": 20,
   "id": "a62ba690-d63c-494b-9a22-7cbf60b14a8f",
   "metadata": {},
   "outputs": [
    {
     "name": "stdout",
     "output_type": "stream",
     "text": [
      "['Alice', 'was', 'beginning', 'to', 'get', 'very', 'tired', 'of', 'sitting', 'by', 'her', 'sister', 'bank', 'having', 'nothing', 'Once', 'twice', 'she', 'had', 'peeped', 'into', 'the', 'book', 'her', 'sister', 'was', 'reading', 'but', 'it', 'had', 'no', 'pictures', 'or', 'conversations', 'in', 'it', 'and', 'what', 'is', 'the', 'use', 'of', 'a', 'book', 'thought', 'Alice', 'without', 'pictures', 'or', 'conversations', '']\n"
     ]
    }
   ],
   "source": [
    "with open(\"words.txt\", \"r\") as f:\n",
    "    word_list = f.read().split(\"\\n\")\n",
    "print(word_list)"
   ]
  },
  {
   "cell_type": "code",
   "execution_count": 5,
   "id": "a215e149-785b-4427-bdbb-93b751e0ccc1",
   "metadata": {},
   "outputs": [],
   "source": [
    "import datetime"
   ]
  },
  {
   "cell_type": "code",
   "execution_count": 22,
   "id": "643c206d-b74d-42af-9b3f-77a3dda50a97",
   "metadata": {},
   "outputs": [
    {
     "data": {
      "text/plain": [
       "datetime.datetime(2021, 10, 7, 0, 0)"
      ]
     },
     "execution_count": 22,
     "metadata": {},
     "output_type": "execute_result"
    }
   ],
   "source": [
    "datetime.datetime(year=2021, month=10, day=7)"
   ]
  },
  {
   "cell_type": "code",
   "execution_count": null,
   "id": "3e3a4a0f-cec0-4fcc-9443-b25f4755b536",
   "metadata": {},
   "outputs": [],
   "source": [
    "datetime.minyear()"
   ]
  },
  {
   "cell_type": "code",
   "execution_count": 1,
   "id": "4a604c8c-ee62-460a-9f85-292ea2c1da18",
   "metadata": {
    "jupyter": {
     "source_hidden": true
    },
    "tags": []
   },
   "outputs": [],
   "source": [
    "# ===generate password===\n",
    "\n",
    "import string\n",
    "import random\n",
    "random.sample = (string.punctuation, 3)\n",
    "\n"
   ]
  },
  {
   "cell_type": "code",
   "execution_count": 2,
   "id": "e1f5418a-722d-4712-b4d8-8902c086c6bf",
   "metadata": {},
   "outputs": [
    {
     "name": "stdout",
     "output_type": "stream",
     "text": [
      "}reading@sitting~pictures_tired|Once;of!bank/conversations+book`sister\n"
     ]
    }
   ],
   "source": [
    "import password\n",
    "\n",
    "pw = password.generate_password(10)\n",
    "print(pw)"
   ]
  },
  {
   "cell_type": "code",
   "execution_count": 8,
   "id": "283e9086-80fe-4d98-85be-770b97d22328",
   "metadata": {},
   "outputs": [
    {
     "name": "stdout",
     "output_type": "stream",
     "text": [
      "2021-10-11 00:00:00\n",
      "2021-10-11 09:51:08.103657\n",
      "9:51:08.103657\n"
     ]
    }
   ],
   "source": [
    "now_manual = datetime.datetime(2021, 10, 11)\n",
    "now_auto = datetime.datetime.now()\n",
    "datetime_diff = now_auto - now_manual\n",
    "\n",
    "print (now_manual)\n",
    "print (now_auto)\n",
    "print (datetime_diff)"
   ]
  },
  {
   "cell_type": "code",
   "execution_count": 1,
   "id": "93cd8905-c650-4490-a5a5-5da8669fc2e2",
   "metadata": {},
   "outputs": [
    {
     "name": "stdout",
     "output_type": "stream",
     "text": [
      "['chiki', 'popcorn', 'pizza']\n",
      "['chiki', 'popcorn']\n"
     ]
    }
   ],
   "source": [
    "products = [\"chiki\", \"popcorn\", \"pizza\"]\n",
    "print(products)\n",
    "\n",
    "product_idx = products.index(\"pizza\")\n",
    "products.pop(product_idx)\n",
    "print(products)"
   ]
  },
  {
   "cell_type": "code",
   "execution_count": 2,
   "id": "2eb5d232-97a7-4763-ac7e-238deeca929d",
   "metadata": {},
   "outputs": [],
   "source": [
    "class ProductList: \n",
    "    \"\"\"Product status.\"\"\"\n",
    "    def __init__(self, product_list):\n",
    "        # check to make sure product_list is a list\n",
    "        # if not an instance of list, then show error\n",
    "        if not isinstance(product_list, list):\n",
    "            raise TypeError(\"Product list must be a list.\")\n",
    "        self.available_product = product_list\n",
    "        self.sold_product = []\n",
    "\n",
    "    def show_available_product(self):\n",
    "        string_product = [\"- {}\".format(product) for product in self.available_product]\n",
    "        string_product = \"\\n\".join(string_product)\n",
    "        print(\"Available products:\", string_product, sep=\"\\n\")\n",
    "\n",
    "    def show_sold_product(self):\n",
    "        string_product = [\"- {}\".format(product) for product in self.sold_product]\n",
    "        string_product = \"\\n\".join(string_product)\n",
    "        print(\"Sold products:\", string_product, sep=\"\\n\")\n",
    "\n",
    "    def sold(self, product_name):\n",
    "        if product_name not in self.available_product:\n",
    "            return \"{} is already not in our product listing\".format(product_name)\n",
    "        product_idx = self.available_product.index(product_name)\n",
    "        # remove sold product from available_product\n",
    "        self.available_product.pop(product_idx)\n",
    "        # add sold product to sold_product\n",
    "        self.sold_product.append(product_name)\n",
    "\n",
    "    def add_product(self, product_name):\n",
    "        self.available_product.append(product_name)"
   ]
  },
  {
   "cell_type": "code",
   "execution_count": 3,
   "id": "feacca6b-8789-477b-a991-7f2bce8e562e",
   "metadata": {},
   "outputs": [
    {
     "name": "stdout",
     "output_type": "stream",
     "text": [
      "Available products:\n",
      "- chiki\n",
      "- popcorn\n",
      "- pizza\n",
      "Available products:\n",
      "- chiki\n",
      "- popcorn\n",
      "- pizza\n",
      "- cheetos\n",
      "- waffle\n",
      "- fish n chips\n",
      "Sold products:\n",
      "\n",
      "Available products:\n",
      "- chiki\n",
      "- popcorn\n",
      "- pizza\n",
      "- fish n chips\n",
      "Sold products:\n",
      "- waffle\n",
      "- cheetos\n"
     ]
    }
   ],
   "source": [
    "products = ProductList([\"chiki\", \"popcorn\", \"pizza\"])\n",
    "products.show_available_product()\n",
    "\n",
    "# add new products\n",
    "list_new_products = [\"cheetos\", \"waffle\", \"fish n chips\"]\n",
    "for product in list_new_products:\n",
    "    products.add_product(product)\n",
    "\n",
    "products.show_available_product()\n",
    "products.show_sold_product()\n",
    "\n",
    "# some products are sold already\n",
    "sold_products = [\"waffle\", \"cheetos\"]\n",
    "for sold_product in sold_products:\n",
    "    products.sold(sold_product)\n",
    "\n",
    "products.show_available_product()\n",
    "products.show_sold_product()"
   ]
  },
  {
   "cell_type": "code",
   "execution_count": null,
   "id": "0aa04f7c-f465-47e8-aa56-9bbfa2093018",
   "metadata": {},
   "outputs": [],
   "source": []
  }
 ],
 "metadata": {
  "kernelspec": {
   "display_name": "Python 3 (ipykernel)",
   "language": "python",
   "name": "python3"
  },
  "language_info": {
   "codemirror_mode": {
    "name": "ipython",
    "version": 3
   },
   "file_extension": ".py",
   "mimetype": "text/x-python",
   "name": "python",
   "nbconvert_exporter": "python",
   "pygments_lexer": "ipython3",
   "version": "3.9.7"
  }
 },
 "nbformat": 4,
 "nbformat_minor": 5
}
