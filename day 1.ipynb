{
 "cells": [
  {
   "cell_type": "code",
   "execution_count": 1,
   "id": "e233ba84-c505-46d9-a60c-314f330eb1d2",
   "metadata": {},
   "outputs": [
    {
     "name": "stdout",
     "output_type": "stream",
     "text": [
      "2021 2020\n",
      "10\n",
      "2020\n"
     ]
    }
   ],
   "source": [
    "last_year = 2020\n",
    "current_year = 2021\n",
    "next_year = 2022\n",
    "a = 10\n",
    "\n",
    "my_population = 1543210\n",
    "\n",
    "print (current_year, last_year)\n",
    "print (a)\n",
    "print (last_year)\n",
    "\n",
    "\n"
   ]
  },
  {
   "cell_type": "code",
   "execution_count": null,
   "id": "09d41ee9-d4c5-41fa-a006-f203333b0349",
   "metadata": {},
   "outputs": [],
   "source": [
    "print (25 + 30)\n",
    "print (10 - 5 * 20)\n",
    "print (4 / 2)\n",
    "print ( 4 % 2)\n",
    "print (12 ** 2)\n",
    "print (111 // 5)"
   ]
  },
  {
   "cell_type": "code",
   "execution_count": 7,
   "id": "85148695-664b-4a04-85ae-09161ed8a8e2",
   "metadata": {},
   "outputs": [
    {
     "name": "stdout",
     "output_type": "stream",
     "text": [
      "10\n",
      "11\n",
      "12\n",
      "10 11 12\n"
     ]
    }
   ],
   "source": [
    "x = 10\n",
    "y = 11\n",
    "z = 12\n",
    "\n",
    "print (x)\n",
    "print (y)\n",
    "print (z)\n",
    "print (x, y, z)"
   ]
  },
  {
   "cell_type": "code",
   "execution_count": 5,
   "id": "9e8075e0-b887-41b7-b60d-68087c644b50",
   "metadata": {},
   "outputs": [
    {
     "name": "stdout",
     "output_type": "stream",
     "text": [
      "1643210\n",
      "821605.0\n"
     ]
    }
   ],
   "source": [
    "my_popolation = 1543210\n",
    "my_population = my_population + 100000\n",
    "print(my_population)\n",
    "\n",
    "my_population *= 0.5\n",
    "print(my_population)\n"
   ]
  },
  {
   "cell_type": "code",
   "execution_count": 6,
   "id": "17e5d544-533f-44d6-bb8d-ea07720b2c1f",
   "metadata": {},
   "outputs": [
    {
     "name": "stdout",
     "output_type": "stream",
     "text": [
      "True\n",
      "False\n",
      "True\n"
     ]
    }
   ],
   "source": [
    "5 > 3\n",
    "5 < 3\n",
    "3 <= 3\n",
    "\n",
    "\n",
    "\n",
    "print (5 > 3)\n",
    "print (5 < 3)\n",
    "print (3 <= 3)"
   ]
  },
  {
   "cell_type": "code",
   "execution_count": 25,
   "id": "db7cc8a9-ff75-4e5f-96d0-d7d7078a7a6b",
   "metadata": {},
   "outputs": [
    {
     "name": "stdout",
     "output_type": "stream",
     "text": [
      "<class 'int'>\n",
      "<class 'int'> <class 'int'>\n",
      "3.15 <class 'float'>\n",
      "0.5101 <class 'float'>\n",
      "10.0 <class 'float'>\n"
     ]
    }
   ],
   "source": [
    "print (type(10))\n",
    "print (type(1), type(-10))\n",
    "\n",
    "print (3.15, type(3.14))\n",
    "print (.5101, type(.5101))\n",
    "print(10.0, type(10.0))"
   ]
  },
  {
   "cell_type": "code",
   "execution_count": 5,
   "id": "b1a89bb6-fccf-40db-8103-553433958320",
   "metadata": {},
   "outputs": [
    {
     "name": "stdout",
     "output_type": "stream",
     "text": [
      "10 3\n",
      "10.0 3.14\n",
      "3.14\n"
     ]
    }
   ],
   "source": [
    "x_int = 10\n",
    "y_float = 3.14\n",
    "\n",
    "x_float = float(x_int)\n",
    "y_int = int(y_float)\n",
    "\n",
    "print(x_int, y_int)\n",
    "print(x_float, y_float)\n",
    "print(float(y_float))"
   ]
  },
  {
   "cell_type": "code",
   "execution_count": 28,
   "id": "46408c63-01a0-4d63-aea5-66a8b81ec39a",
   "metadata": {},
   "outputs": [
    {
     "name": "stdout",
     "output_type": "stream",
     "text": [
      "0 0.0\n"
     ]
    }
   ],
   "source": [
    "simple_int = int()\n",
    "simple_float = float()\n",
    "\n",
    "print(simple_int, simple_float)"
   ]
  },
  {
   "cell_type": "code",
   "execution_count": 30,
   "id": "4a7f462b-d875-4955-b005-7de6b3a89532",
   "metadata": {},
   "outputs": [
    {
     "name": "stdout",
     "output_type": "stream",
     "text": [
      "Selamat datang di Bitlabs! Arif, cepat kesini!, ujar Ibunya. Mungkin al'ad sudah tidak sanggup.\n",
      "Tapi, apa mungkin?\n"
     ]
    }
   ],
   "source": [
    "bootcamp = \"Selamat datang di Bitlabs!\"\n",
    "novel = 'Arif, cepat kesini!, ujar Ibunya.'\n",
    "text = \"\"\"Mungkin al'ad sudah tidak sanggup.\n",
    "Tapi, apa mungkin?\"\"\"\n",
    "\n",
    "print(bootcamp, novel, text)"
   ]
  },
  {
   "cell_type": "code",
   "execution_count": 31,
   "id": "4a734096-b5e5-4cae-a8af-e056dc7fc4d2",
   "metadata": {},
   "outputs": [
    {
     "name": "stdout",
     "output_type": "stream",
     "text": [
      "\"Apa mungkin, kita diam saja melihat 'ain diperlakukan seperti itu\", tanya usop.\n",
      "\n",
      "Ihsan pun diam, berpikir\n"
     ]
    }
   ],
   "source": [
    "fix = '''\"Apa mungkin, kita diam saja melihat 'ain diperlakukan seperti itu\", tanya usop.\n",
    "\n",
    "Ihsan pun diam, berpikir'''\n",
    "\n",
    "print(fix)"
   ]
  },
  {
   "cell_type": "code",
   "execution_count": 4,
   "id": "bf8d2772-b56a-4ba3-8eb2-ecc4acf143f4",
   "metadata": {},
   "outputs": [
    {
     "name": "stdout",
     "output_type": "stream",
     "text": [
      "False\n",
      "True\n",
      "False\n",
      "False\n",
      "False\n",
      "False\n"
     ]
    }
   ],
   "source": [
    "print(5 < 3)\n",
    "print(3 <= 5)\n",
    "print(5 != 5.)\n",
    "print(\"bit\" == \"Bit\")\n",
    "print(\"abjad\" == \"abjaf\")\n",
    "print(\"1\" >= \"10\")"
   ]
  },
  {
   "cell_type": "code",
   "execution_count": 38,
   "id": "9c6c5c5c-ffb7-4e2e-83cc-066e50cb80b1",
   "metadata": {},
   "outputs": [
    {
     "name": "stdout",
     "output_type": "stream",
     "text": [
      "False <class 'bool'>\n"
     ]
    }
   ],
   "source": [
    "is_more = x > z\n",
    "print(is_more, type(is_more))"
   ]
  },
  {
   "cell_type": "code",
   "execution_count": 3,
   "id": "26eb8909-17c5-440c-8fd1-6e23b64ba55a",
   "metadata": {},
   "outputs": [
    {
     "name": "stdout",
     "output_type": "stream",
     "text": [
      "True\n",
      "False\n",
      "False\n",
      "True\n",
      "True\n",
      "False\n"
     ]
    }
   ],
   "source": [
    "p = q = 1\n",
    "p_and_q = bool(p and q)\n",
    "p_and_notq = bool(p and not q)\n",
    "notp_and_q = bool(not p and q)\n",
    "notp_and_notq = bool(not p and not q)\n",
    "\n",
    "print(p_and_q)\n",
    "print(p_and_notq)\n",
    "print(notp_and_q)\n",
    "\n",
    "p_or_notq = bool(not q or p)\n",
    "notp_or_q = bool(not p or q)\n",
    "notp_or_notq = bool(not p or not q)\n",
    "\n",
    "\n",
    "print (p_or_notq)\n",
    "print (notp_or_q)\n",
    "print (notp_or_notq)\n"
   ]
  },
  {
   "cell_type": "code",
   "execution_count": 23,
   "id": "97b3b98e-72fd-4964-a607-c194ed7a7dce",
   "metadata": {},
   "outputs": [
    {
     "name": "stdout",
     "output_type": "stream",
     "text": [
      "True False True\n",
      "1: True\n",
      "2: False\n"
     ]
    }
   ],
   "source": [
    "benar = True\n",
    "salah = False\n",
    "true = True\n",
    "\n",
    "print (benar, salah, true)\n",
    "print(\"1:\", benar and true)\n",
    "print(\"2:\", benar and salah)"
   ]
  },
  {
   "cell_type": "code",
   "execution_count": null,
   "id": "55943bad-8cb5-48f1-8e68-bd21cae9a1bc",
   "metadata": {},
   "outputs": [],
   "source": []
  },
  {
   "cell_type": "code",
   "execution_count": null,
   "id": "ed26fe67-ea26-4079-ace8-3e345ea0018b",
   "metadata": {},
   "outputs": [],
   "source": []
  }
 ],
 "metadata": {
  "kernelspec": {
   "display_name": "Python 3 (ipykernel)",
   "language": "python",
   "name": "python3"
  },
  "language_info": {
   "codemirror_mode": {
    "name": "ipython",
    "version": 3
   },
   "file_extension": ".py",
   "mimetype": "text/x-python",
   "name": "python",
   "nbconvert_exporter": "python",
   "pygments_lexer": "ipython3",
   "version": "3.9.7"
  }
 },
 "nbformat": 4,
 "nbformat_minor": 5
}
