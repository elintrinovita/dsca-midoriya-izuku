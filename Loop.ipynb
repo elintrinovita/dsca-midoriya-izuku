{
 "cells": [
  {
   "cell_type": "code",
   "execution_count": 5,
   "id": "27eddf57-13e7-4291-8cbb-1505fc94a5fb",
   "metadata": {},
   "outputs": [
    {
     "name": "stdout",
     "output_type": "stream",
     "text": [
      "brown\n",
      "james\n",
      "jacson\n",
      "lee\n"
     ]
    }
   ],
   "source": [
    "# ======while loop======\n",
    "\n",
    "names = [\"brown\", \"james\", \"jacson\", \"lee\"]\n",
    "print(names [0])\n",
    "print(names [1])\n",
    "print(names [2])\n",
    "print(names [3])"
   ]
  },
  {
   "cell_type": "code",
   "execution_count": 6,
   "id": "62c95e6c-afcd-4ab2-8d79-164018dc2d3d",
   "metadata": {},
   "outputs": [
    {
     "name": "stdout",
     "output_type": "stream",
     "text": [
      "num_names[0]:brown\n",
      "num_names[1]:james\n",
      "num_names[2]:jacson\n",
      "num_names[3]:lee\n"
     ]
    }
   ],
   "source": [
    "num_names = len(names)\n",
    "idx = 0\n",
    "# while idx < num_names:\n",
    "#    print (names[idx])\n",
    "#   idx +=1\n",
    "\n",
    "while idx < num_names:\n",
    "    print (\"num_names[{}]:{}\".format(idx, names[idx]))\n",
    "    idx +=1"
   ]
  },
  {
   "cell_type": "code",
   "execution_count": 7,
   "id": "9a197a77-da2d-43b9-ac35-e5ccfea120e1",
   "metadata": {},
   "outputs": [
    {
     "name": "stdout",
     "output_type": "stream",
     "text": [
      "start index: -4\n",
      "num_names[-4]:brown\n",
      "num_names[-3]:james\n",
      "num_names[-2]:jacson\n",
      "num_names[-1]:lee\n"
     ]
    }
   ],
   "source": [
    "num_names = len(names)\n",
    "neg_idx = -num_names\n",
    "print (\"start index:\", neg_idx)\n",
    "while neg_idx <= -1:\n",
    "    print (\"num_names[{}]:{}\".format(neg_idx, names[neg_idx]))\n",
    "    neg_idx +=1"
   ]
  },
  {
   "cell_type": "code",
   "execution_count": 8,
   "id": "689188c6-0a6d-40c3-a342-69018db02fb1",
   "metadata": {},
   "outputs": [
    {
     "name": "stdout",
     "output_type": "stream",
     "text": [
      "brown\n",
      "james\n",
      "jacson\n"
     ]
    }
   ],
   "source": [
    "idx = 0\n",
    "while idx < len(names):\n",
    "    if len(names[idx]) < 5:\n",
    "        break\n",
    "    print(names [idx])\n",
    "    idx +=1"
   ]
  },
  {
   "cell_type": "code",
   "execution_count": 9,
   "id": "a49d1520-e5af-417f-a5e2-6feece0592c8",
   "metadata": {},
   "outputs": [
    {
     "name": "stdout",
     "output_type": "stream",
     "text": [
      "length of names: 5\n",
      "brown\n",
      "length of names: 5\n",
      "james\n",
      "length of names: 6\n",
      "jacson\n",
      "length of names: 3\n"
     ]
    }
   ],
   "source": [
    "idx = 0\n",
    "while idx < len(names):\n",
    "    print(\"length of names:\", len(names [idx]))\n",
    "    if len(names[idx]) < 5:\n",
    "        break\n",
    "    print(names [idx])\n",
    "    idx +=1"
   ]
  },
  {
   "cell_type": "code",
   "execution_count": 10,
   "id": "d6a31585-4fcb-4960-bcbf-22ecdbdb6226",
   "metadata": {},
   "outputs": [
    {
     "name": "stdout",
     "output_type": "stream",
     "text": [
      "brown\n",
      "james\n",
      "jacson\n",
      "Found name (lee) with length (3) < 5\n"
     ]
    }
   ],
   "source": [
    "idx = 0\n",
    "while idx < len(names):\n",
    "    if len(names [idx]) <5:\n",
    "        print (\"Found name ({}) with length ({}) < 5\".format(names[idx], len (names [idx])))\n",
    "        idx +=1\n",
    "        continue\n",
    "    print (names[idx])\n",
    "    idx +=1\n",
    "  "
   ]
  },
  {
   "cell_type": "code",
   "execution_count": 11,
   "id": "bbd6d546-2307-4d27-b0f5-9319bb1e6e15",
   "metadata": {},
   "outputs": [
    {
     "name": "stdout",
     "output_type": "stream",
     "text": [
      "Pemprov DKI Perpanjang PPKM Mikro hingga 14 Juni Manchester City Dekati Sergio Ramos 8 Juta Dosis Vaksin Sinovac Tiba di Tanah Air 10 Potret Kece Tatj\n"
     ]
    }
   ],
   "source": [
    "char_limit = 150\n",
    "head_lines = [\"Pemprov DKI Perpanjang PPKM Mikro hingga 14 Juni\",\n",
    "              \"Manchester City Dekati Sergio Ramos\",\n",
    "              \"8 Juta Dosis Vaksin Sinovac Tiba di Tanah Air\",\n",
    "              \"10 Potret Kece Tatjana Saphira Berkacamata, Stylish Banget!\",]\n",
    "\n",
    "long_head_lines = \" \".join(head_lines) [:char_limit]\n",
    "print(long_head_lines)"
   ]
  },
  {
   "cell_type": "code",
   "execution_count": 12,
   "id": "848c32cb-301a-437c-b3c5-9ae77ca41638",
   "metadata": {},
   "outputs": [
    {
     "name": "stdout",
     "output_type": "stream",
     "text": [
      "head_line: Pemprov DKI Perpanjang PPKM Mikro hingga 14 Juni\n",
      "head_line: Manchester City Dekati Sergio Ramos\n",
      "head_line: 8 Juta Dosis Vaksin Sinovac Tiba di Tanah Air\n",
      "head_line: 10 Potret Kece Tatjana Saphira Berkacamata, Stylish Banget!\n",
      "Pemprov DKI Perpanjang PPKM Mikro hingga 14 Juni Manchester City Dekati Sergio Ramos 8 Juta Dosis Vaksin Sinovac Tiba di Tanah Air 10 Potret Kece Tatjana Saphira Berkacamata, Stylish Banget! \n"
     ]
    }
   ],
   "source": [
    "index = 0\n",
    "new_long_head_lines = \"\"\n",
    "\n",
    "while index < len(head_lines):\n",
    "    print (\"head_line:\" , head_lines[index])\n",
    "    new_long_head_lines += head_lines[index] + \" \"\n",
    "    index += 1\n",
    "print(new_long_head_lines)"
   ]
  },
  {
   "cell_type": "code",
   "execution_count": 13,
   "id": "950e5ad7-d34b-4d25-a705-f6c4e4e59f9f",
   "metadata": {},
   "outputs": [
    {
     "name": "stdout",
     "output_type": "stream",
     "text": [
      "brown\n",
      "james\n",
      "jacson\n",
      "lee\n",
      "johnson\n",
      "michael\n",
      "stephany\n"
     ]
    }
   ],
   "source": [
    "# =====for loop=====\n",
    "\n",
    "names = [\"brown\", \"james\", \"jacson\", \"lee\", \"johnson\", \"michael\", \"stephany\"]\n",
    "for name in names:\n",
    "    print (name)"
   ]
  },
  {
   "cell_type": "code",
   "execution_count": 12,
   "id": "a1c0cfd0-d6e9-4d50-ba95-c8f1c56b8c52",
   "metadata": {},
   "outputs": [],
   "source": [
    "manifesto = [\n",
    "    (\"bananas\", 15), \n",
    "    (\"mattresses\", 24), \n",
    "    (\"dog kennels\", 42), \n",
    "    (\"computer\", 120), \n",
    "    (\"chesses\", 5)\n",
    "]\n",
    "cargo = []\n",
    "total_weight = 0\n",
    "max_capacity = 100\n"
   ]
  },
  {
   "cell_type": "code",
   "execution_count": 3,
   "id": "ddedfced-d0b7-4ee1-877e-3fdb217fc3a9",
   "metadata": {},
   "outputs": [
    {
     "name": "stdout",
     "output_type": "stream",
     "text": [
      "item bananas\n",
      "weight 15\n",
      "\n",
      "item mattresses\n",
      "weight 24\n",
      "\n",
      "item dog kennels\n",
      "weight 42\n",
      "\n",
      "item computer\n",
      "weight 120\n",
      "\n",
      "item chesses\n",
      "weight 5\n",
      "\n"
     ]
    }
   ],
   "source": [
    "for item, weight in manifesto:\n",
    "    print(\"item\", item)\n",
    "    print(\"weight\", weight)\n",
    "    print()"
   ]
  },
  {
   "cell_type": "code",
   "execution_count": 13,
   "id": "682a42ff-ea91-4fee-a37a-ff3b5bc85d8e",
   "metadata": {},
   "outputs": [
    {
     "name": "stdout",
     "output_type": "stream",
     "text": [
      "current weight: 0\n",
      "- Adding bananas to cargo (weight: 15)\n",
      "current weight: 15\n",
      "- Adding mattresses to cargo (weight: 24)\n",
      "current weight: 39\n",
      "- Adding dog kennels to cargo (weight: 42)\n",
      "current weight: 81\n",
      ":: Skipping computer (weight: 120)\n",
      "current weight: 81\n",
      "- Adding chesses to cargo (weight: 5)\n",
      "\n",
      "Final Weight: 86\n",
      "Items in cargo: ['bananas', 'mattresses', 'dog kennels', 'chesses']\n"
     ]
    }
   ],
   "source": [
    "for cargo_name, cargo_weight in manifesto:\n",
    "    print(\"current weight:\", total_weight)\n",
    "    if total_weight >= max_capacity:\n",
    "        print (\"Stop loading. Total weight:\", total_weight)\n",
    "        break\n",
    "        \n",
    "    if cargo_weight + total_weight > 100:\n",
    "        print (\":: Skipping {} (weight: {})\".format(cargo_name, cargo_weight))\n",
    "        continue\n",
    "        \n",
    "    print(\"- Adding {} to cargo (weight: {})\".format(cargo_name, cargo_weight))\n",
    "    cargo.append(cargo_name)\n",
    "    total_weight += cargo_weight\n",
    "\n",
    "\n",
    "print (\"\\nFinal Weight:\", total_weight)\n",
    "print (\"Items in cargo:\", cargo)"
   ]
  },
  {
   "cell_type": "code",
   "execution_count": 14,
   "id": "a9dbcd90-c6f3-43e2-906c-b4844c971c4e",
   "metadata": {},
   "outputs": [
    {
     "name": "stdout",
     "output_type": "stream",
     "text": [
      "range(5, 10) <class 'range'>\n",
      "range(0, 10) <class 'range'>\n",
      "range(0, 10) <class 'range'>\n"
     ]
    }
   ],
   "source": [
    "five_to_nine = range(5, 10)\n",
    "to_ten = range(10)\n",
    "to_ten_with_two = range(0, 10, 2)\n",
    "\n",
    "print(five_to_nine, type (five_to_nine))\n",
    "print(to_ten, type (to_ten))\n",
    "print(to_ten, type (to_ten))"
   ]
  },
  {
   "cell_type": "code",
   "execution_count": 18,
   "id": "3d75d4a1-3c2a-4f43-96e5-5fa88aea171e",
   "metadata": {},
   "outputs": [
    {
     "name": "stdout",
     "output_type": "stream",
     "text": [
      "[5, 6, 7, 8, 9] (5, 6, 7, 8, 9)\n",
      "[0, 1, 2, 3, 4, 5, 6, 7, 8, 9] (0, 1, 2, 3, 4, 5, 6, 7, 8, 9)\n",
      "[0, 2, 4, 6, 8] (0, 2, 4, 6, 8)\n"
     ]
    }
   ],
   "source": [
    "print (list(five_to_nine), tuple(five_to_nine))\n",
    "print (list(to_ten), tuple(to_ten))\n",
    "print (list(to_ten_with_two), tuple(to_ten_with_two))"
   ]
  },
  {
   "cell_type": "code",
   "execution_count": 19,
   "id": "d15d89c6-8680-49f8-aa1f-fad27f04155f",
   "metadata": {},
   "outputs": [
    {
     "name": "stdout",
     "output_type": "stream",
     "text": [
      "[0, 1, 2, 3, 4, 5, 6, 7, 8, 9, 10, 11, 12, 13, 14, 15, 16, 17, 18, 19, 20, 21, 22, 23, 24, 25, 26, 27, 28, 29, 30, 31, 32, 33, 34, 35, 36, 37, 38, 39, 40, 41, 42, 43, 44, 45, 46, 47, 48, 49, 50, 51, 52, 53, 54, 55, 56, 57, 58, 59, 60, 61, 62, 63, 64, 65, 66, 67, 68, 69, 70, 71, 72, 73, 74, 75, 76, 77, 78, 79, 80, 81, 82, 83, 84, 85, 86, 87, 88, 89, 90, 91, 92, 93, 94, 95, 96, 97, 98, 99] <class 'list'>\n"
     ]
    }
   ],
   "source": [
    "long_list_number = list(range(100))\n",
    "print (long_list_number, type(long_list_number))"
   ]
  },
  {
   "cell_type": "code",
   "execution_count": 20,
   "id": "ec240dd7-53a3-49ad-8f0b-da53129885fa",
   "metadata": {},
   "outputs": [
    {
     "name": "stdout",
     "output_type": "stream",
     "text": [
      "5\n",
      "6\n",
      "7\n",
      "8\n",
      "9\n",
      "\n",
      "0\n",
      "1\n",
      "2\n",
      "3\n",
      "4\n",
      "5\n",
      "6\n",
      "7\n",
      "8\n",
      "9\n",
      "\n",
      "0\n",
      "2\n",
      "4\n",
      "6\n",
      "8\n"
     ]
    }
   ],
   "source": [
    "for x in five_to_nine:\n",
    "    print(x)\n",
    "print()\n",
    "\n",
    "for x in to_ten:\n",
    "    print(x)\n",
    "print()\n",
    "\n",
    "for x in to_ten_with_two:\n",
    "    print(x)"
   ]
  },
  {
   "cell_type": "code",
   "execution_count": 21,
   "id": "13e31db8-ea03-425d-a3d6-ca400f3f28fc",
   "metadata": {},
   "outputs": [
    {
     "data": {
      "text/plain": [
       "(7, range(0, 7), range(0, 7))"
      ]
     },
     "execution_count": 21,
     "metadata": {},
     "output_type": "execute_result"
    }
   ],
   "source": [
    "len(names), range(7), range(len(names))"
   ]
  },
  {
   "cell_type": "code",
   "execution_count": 22,
   "id": "fef43e15-b581-48de-b86e-5247d096ef45",
   "metadata": {},
   "outputs": [
    {
     "name": "stdout",
     "output_type": "stream",
     "text": [
      "brown\n",
      "james\n",
      "jacson\n",
      "lee\n",
      "johnson\n",
      "michael\n",
      "stephany\n"
     ]
    }
   ],
   "source": [
    "for i in range(len(names)):\n",
    "    print(names [i])"
   ]
  },
  {
   "cell_type": "code",
   "execution_count": 23,
   "id": "5d7bf7c6-98b6-45ef-b073-65c0c6ec40b0",
   "metadata": {},
   "outputs": [
    {
     "name": "stdout",
     "output_type": "stream",
     "text": [
      "brown\n",
      "james\n",
      "jacson\n",
      "lee\n",
      "johnson\n",
      "michael\n",
      "stephany\n"
     ]
    }
   ],
   "source": [
    "for name in names:\n",
    "    print(name)"
   ]
  },
  {
   "cell_type": "code",
   "execution_count": 15,
   "id": "7ecaf546-6388-4923-8b5e-3cc309738769",
   "metadata": {},
   "outputs": [
    {
     "name": "stdout",
     "output_type": "stream",
     "text": [
      "{'bananas': 15, 'mattresses': 24, 'dog kennels': 42, 'computer': 120, 'chesses': 5}\n",
      "bananas: 15\n",
      "mattresses: 24\n",
      "dog kennels: 42\n",
      "computer: 120\n",
      "chesses: 5\n"
     ]
    }
   ],
   "source": [
    "dict_manifesto = dict(manifesto)\n",
    "print(dict_manifesto)\n",
    "\n",
    "for key, value in dict_manifesto.items():\n",
    "    print(\"{}: {}\".format(key, value))"
   ]
  },
  {
   "cell_type": "code",
   "execution_count": 19,
   "id": "3a1648da-cfe0-4c56-a28c-671cb85622a5",
   "metadata": {},
   "outputs": [
    {
     "name": "stdout",
     "output_type": "stream",
     "text": [
      "purchase product: {'computer': 3, 'cheeses': 10, 'dog_kennels': 5, 'bananas': 20}\n",
      "product and corresponding weight: {'bananas': 15, 'mattresses': 24, 'dog kennels': 42, 'computer': 120, 'chesses': 5}\n",
      "current weight: 0\n",
      "- adding computer to cargo (product_weight: 5)\n",
      "current weight: 360\n",
      "- adding cheeses to cargo (product_weight: 5)\n",
      "current weight: 370\n",
      "- adding dog_kennels to cargo (product_weight: 5)\n",
      "current weight: 375\n",
      "- adding bananas to cargo (product_weight: 5)\n",
      "nFinal weight: 675\n",
      "items in cargo: ['computer', 'computer', 'computer', 'cheeses', 'cheeses', 'cheeses', 'cheeses', 'cheeses', 'cheeses', 'cheeses', 'cheeses', 'cheeses', 'cheeses', 'dog_kennels', 'dog_kennels', 'dog_kennels', 'dog_kennels', 'dog_kennels', 'bananas', 'bananas', 'bananas', 'bananas', 'bananas', 'bananas', 'bananas', 'bananas', 'bananas', 'bananas', 'bananas', 'bananas', 'bananas', 'bananas', 'bananas', 'bananas', 'bananas', 'bananas', 'bananas', 'bananas']\n"
     ]
    }
   ],
   "source": [
    "purchase_product = {\"computer\": 3, \"cheeses\": 10, \"dog_kennels\": 5, \"bananas\": 20}\n",
    "print(\"purchase product:\", purchase_product)\n",
    "print(\"product and corresponding weight:\", dict_manifesto)\n",
    "\n",
    "cargo = []\n",
    "total_weight = 0\n",
    "maximum_capacity = 1000\n",
    "#KUIS BELUM DIKERJAKAN\n",
    "\n",
    "for product, quantity in purchase_product.items():\n",
    "    print(\"current weight:\", total_weight)\n",
    "    if total_weight >= maximum_capacity:\n",
    "        print(\"stop loading. Total weight:\", total_weight)\n",
    "        break\n",
    "        \n",
    "    # cargo_weight = purchased_product.get(cargo_name) * cargo_weight\n",
    "    cargo_weight = quantity * dict_manifesto.get(product, 1)\n",
    "    if cargo_weight + total_weight > maximum_capacity:\n",
    "        print (\":: Skipping {} (weight: {})\".format (product, cargo_weight))\n",
    "        continue\n",
    "       \n",
    "        \n",
    "    print(\"- adding {} to cargo (product_weight: {})\".format (product, weight))\n",
    "    cargo.extend(purchase_product.get(product, 1) * [product])\n",
    "    total_weight += cargo_weight\n",
    "    \n",
    "print(\"nFinal weight:\", total_weight)\n",
    "print(\"items in cargo:\", cargo)\n",
    "        \n"
   ]
  },
  {
   "cell_type": "code",
   "execution_count": 26,
   "id": "662cf272-49e5-4514-b6db-1b1bdf8072ab",
   "metadata": {},
   "outputs": [
    {
     "name": "stdout",
     "output_type": "stream",
     "text": [
      "['joko', 'abdul', 'toni', 'marcus', 'james']\n",
      "{'abdul', 'james', 'marcus', 'joko', 'toni'}\n"
     ]
    }
   ],
   "source": [
    "new_names = [\"joko\", \"abdul\", \"toni\", \"marcus\", \"james\"]\n",
    "print(list(new_names))\n",
    "print(set(new_names))"
   ]
  },
  {
   "cell_type": "code",
   "execution_count": 27,
   "id": "8111b398-33bb-4c38-996f-bc3f8fcaaf5d",
   "metadata": {},
   "outputs": [
    {
     "name": "stdout",
     "output_type": "stream",
     "text": [
      "bananas 15\n",
      "mattresses 24\n",
      "dog kernels 42\n",
      "computer 120\n",
      "chesses 5\n"
     ]
    }
   ],
   "source": [
    "for product, _ in manifesto:\n",
    "    print(product, _)"
   ]
  },
  {
   "cell_type": "code",
   "execution_count": 28,
   "id": "6fe0711f-959d-4dbd-9a12-885fa8ec0a06",
   "metadata": {},
   "outputs": [
    {
     "name": "stdout",
     "output_type": "stream",
     "text": [
      "['bananas', 'mattresses', 'dog kernels', 'computer', 'chesses']\n"
     ]
    }
   ],
   "source": [
    "list_product = []\n",
    "for product, _ in manifesto:\n",
    "    list_product.append(product)\n",
    "print(list_product)"
   ]
  },
  {
   "cell_type": "code",
   "execution_count": 29,
   "id": "f6b832ad-1f13-4511-b723-007df9610af2",
   "metadata": {},
   "outputs": [
    {
     "name": "stdout",
     "output_type": "stream",
     "text": [
      "['bananas', 'mattresses', 'dog kernels', 'computer', 'chesses']\n",
      "True\n"
     ]
    }
   ],
   "source": [
    "list_product_comprehension = [product for product, _ in manifesto]\n",
    "print(list_product_comprehension)\n",
    "print(list_product == list_product_comprehension)"
   ]
  },
  {
   "cell_type": "code",
   "execution_count": 31,
   "id": "4697d5df-d54c-4d3c-96d0-4d823abf7090",
   "metadata": {},
   "outputs": [
    {
     "name": "stdout",
     "output_type": "stream",
     "text": [
      "[2, 4, 6, 8, 10]\n"
     ]
    }
   ],
   "source": [
    "numbers = [1, 2, 3, 4, 5]\n",
    "doubled_numbers = [number*2 for number in numbers]\n",
    "print(doubled_numbers)"
   ]
  },
  {
   "cell_type": "code",
   "execution_count": 47,
   "id": "d67fbea0-1487-422c-b921-a6c134484f4b",
   "metadata": {},
   "outputs": [
    {
     "name": "stdout",
     "output_type": "stream",
     "text": [
      "{'bananas': 5000, 'mattresses': 1000000, 'dog kennels': 250000, 'computer': 1000000, 'cheeses': 10000, 'drugs': 50000}\n",
      "\n",
      "{'james': {'drugs': 2}, 'brown': {'bananas': 10, 'drugs': 5}, 'toni': {'dog kennels': 2, 'drugs': 2}}\n",
      "\n",
      "{'james': 100000, 'brown': 300000, 'toni': 600000}\n"
     ]
    }
   ],
   "source": [
    "product_to_price = {\n",
    "    \"bananas\": 5000,\n",
    "    \"mattresses\": 1000000,\n",
    "    \"dog kennels\": 250000,\n",
    "    \"computer\": 1000000,\n",
    "    \"cheeses\": 10000,\n",
    "    \"drugs\": 50000\n",
    "}\n",
    "print (product_to_price)\n",
    "print()\n",
    "\n",
    "purchase_history = {\n",
    "    \"james\": {\"drugs\": 2},\n",
    "    \"brown\": {\"bananas\": 10, \"drugs\": 5},\n",
    "    \"toni\": {\"dog kennels\": 2, \"drugs\": 2}\n",
    "}\n",
    "print(purchased_history)\n",
    "print()\n",
    "\n",
    "users_spending = {\n",
    "    user: sum([quantity*product_to_price.get(product_name, 0) for product_name, quantity in dict_products.items()])\n",
    "    for user, dict_products in purchase_history.items()\n",
    "}\n",
    "print(users_spending)"
   ]
  },
  {
   "cell_type": "code",
   "execution_count": 54,
   "id": "5d90352e-715b-45b6-a197-ce783ffdcef9",
   "metadata": {},
   "outputs": [
    {
     "name": "stdout",
     "output_type": "stream",
     "text": [
      "{'james': 100000, 'brown': 300000, 'toni': 600000}\n"
     ]
    }
   ],
   "source": [
    "dict_spending = {}\n",
    "for user, dict_products in purchase_history.items():\n",
    "    total_spending = 0\n",
    "    for product_name, quantity in dict_products.items():\n",
    "        total_spending += quantity * product_to_price.get(product_name, 0)\n",
    "    dict_spending[user] = total_spending\n",
    "print (dict_spending)"
   ]
  },
  {
   "cell_type": "code",
   "execution_count": null,
   "id": "85188e55-f24a-4576-9a22-b4de9a377bba",
   "metadata": {},
   "outputs": [],
   "source": []
  },
  {
   "cell_type": "code",
   "execution_count": null,
   "id": "3daa4817-9af6-41f8-83d5-056a059a825d",
   "metadata": {},
   "outputs": [],
   "source": []
  }
 ],
 "metadata": {
  "kernelspec": {
   "display_name": "Python 3 (ipykernel)",
   "language": "python",
   "name": "python3"
  },
  "language_info": {
   "codemirror_mode": {
    "name": "ipython",
    "version": 3
   },
   "file_extension": ".py",
   "mimetype": "text/x-python",
   "name": "python",
   "nbconvert_exporter": "python",
   "pygments_lexer": "ipython3",
   "version": "3.9.7"
  }
 },
 "nbformat": 4,
 "nbformat_minor": 5
}
